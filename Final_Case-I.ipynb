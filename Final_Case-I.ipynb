{
 "cells": [
  {
   "cell_type": "markdown",
   "metadata": {},
   "source": [
    "# Predicting Loan Interest Rate Case study - I\n",
    "\n",
    "### Syed Khaleelullah"
   ]
  },
  {
   "cell_type": "markdown",
   "metadata": {},
   "source": [
    "### To Do:\n",
    "\n",
    " - Describe the dataset and any issues with it.\n",
    " - Generate a minimum of 5 unique visualizations using the data and write a brief description of your observations. Additionally, all attempts should be made to make the visualizations visually appealing\n",
    " - Create a feature set and create a model which predicts interest rate using at least 2 algorithms. Describe any data cleansing that must be performed and analysis when examining the data.\n",
    " - Visualize the test results and propose enhancements to the model, what would you do if you had more time. Also describe assumptions you made and your approach.\n"
   ]
  },
  {
   "cell_type": "markdown",
   "metadata": {},
   "source": [
    "#### Loans Data Description\n",
    "\n",
    "This data set represents thousands of loans made through the Lending Club platform, which is a platform that allows individuals to lend to other individuals. Of course, not all loans are created equal. Someone who is a essentially a sure bet to pay back a loan will have an easier time getting a loan with a low interest rate than someone who appears to be riskier. And for people who are very risky? They may not even get a loan offer, or they may not have accepted the loan offer due to a high interest rate. It is important to keep that last part in mind, since this data set only represents loans actually made, i.e. do not mistake this data for loan applications!\n",
    "\n",
    " - This loans dataset contains 10,000 records and 55 variables that can be the reason for predicting the interest rates. Let's find out through exploratory data analysis\n",
    " - There are some missing values which we will deal with later shown below.\n",
    " - There are both categorical and numerical variables present in the dataset.\n",
    " "
   ]
  },
  {
   "cell_type": "code",
   "execution_count": 1,
   "metadata": {},
   "outputs": [],
   "source": [
    "import pandas as pd\n",
    "import numpy as np\n",
    "import matplotlib.pyplot as plt\n",
    "import seaborn as sb"
   ]
  },
  {
   "cell_type": "code",
   "execution_count": 2,
   "metadata": {},
   "outputs": [],
   "source": [
    "loans_df = pd.read_csv(\"loans_full_schema.csv\")"
   ]
  },
  {
   "cell_type": "code",
   "execution_count": 3,
   "metadata": {},
   "outputs": [
    {
     "data": {
      "text/html": [
       "<div>\n",
       "<style scoped>\n",
       "    .dataframe tbody tr th:only-of-type {\n",
       "        vertical-align: middle;\n",
       "    }\n",
       "\n",
       "    .dataframe tbody tr th {\n",
       "        vertical-align: top;\n",
       "    }\n",
       "\n",
       "    .dataframe thead th {\n",
       "        text-align: right;\n",
       "    }\n",
       "</style>\n",
       "<table border=\"1\" class=\"dataframe\">\n",
       "  <thead>\n",
       "    <tr style=\"text-align: right;\">\n",
       "      <th></th>\n",
       "      <th>emp_title</th>\n",
       "      <th>emp_length</th>\n",
       "      <th>state</th>\n",
       "      <th>homeownership</th>\n",
       "      <th>annual_income</th>\n",
       "      <th>verified_income</th>\n",
       "      <th>debt_to_income</th>\n",
       "      <th>annual_income_joint</th>\n",
       "      <th>verification_income_joint</th>\n",
       "      <th>debt_to_income_joint</th>\n",
       "      <th>...</th>\n",
       "      <th>sub_grade</th>\n",
       "      <th>issue_month</th>\n",
       "      <th>loan_status</th>\n",
       "      <th>initial_listing_status</th>\n",
       "      <th>disbursement_method</th>\n",
       "      <th>balance</th>\n",
       "      <th>paid_total</th>\n",
       "      <th>paid_principal</th>\n",
       "      <th>paid_interest</th>\n",
       "      <th>paid_late_fees</th>\n",
       "    </tr>\n",
       "  </thead>\n",
       "  <tbody>\n",
       "    <tr>\n",
       "      <th>0</th>\n",
       "      <td>global config engineer</td>\n",
       "      <td>3.0</td>\n",
       "      <td>NJ</td>\n",
       "      <td>MORTGAGE</td>\n",
       "      <td>90000.0</td>\n",
       "      <td>Verified</td>\n",
       "      <td>18.01</td>\n",
       "      <td>NaN</td>\n",
       "      <td>NaN</td>\n",
       "      <td>NaN</td>\n",
       "      <td>...</td>\n",
       "      <td>C3</td>\n",
       "      <td>Mar-2018</td>\n",
       "      <td>Current</td>\n",
       "      <td>whole</td>\n",
       "      <td>Cash</td>\n",
       "      <td>27015.86</td>\n",
       "      <td>1999.33</td>\n",
       "      <td>984.14</td>\n",
       "      <td>1015.19</td>\n",
       "      <td>0.0</td>\n",
       "    </tr>\n",
       "    <tr>\n",
       "      <th>1</th>\n",
       "      <td>warehouse office clerk</td>\n",
       "      <td>10.0</td>\n",
       "      <td>HI</td>\n",
       "      <td>RENT</td>\n",
       "      <td>40000.0</td>\n",
       "      <td>Not Verified</td>\n",
       "      <td>5.04</td>\n",
       "      <td>NaN</td>\n",
       "      <td>NaN</td>\n",
       "      <td>NaN</td>\n",
       "      <td>...</td>\n",
       "      <td>C1</td>\n",
       "      <td>Feb-2018</td>\n",
       "      <td>Current</td>\n",
       "      <td>whole</td>\n",
       "      <td>Cash</td>\n",
       "      <td>4651.37</td>\n",
       "      <td>499.12</td>\n",
       "      <td>348.63</td>\n",
       "      <td>150.49</td>\n",
       "      <td>0.0</td>\n",
       "    </tr>\n",
       "    <tr>\n",
       "      <th>2</th>\n",
       "      <td>assembly</td>\n",
       "      <td>3.0</td>\n",
       "      <td>WI</td>\n",
       "      <td>RENT</td>\n",
       "      <td>40000.0</td>\n",
       "      <td>Source Verified</td>\n",
       "      <td>21.15</td>\n",
       "      <td>NaN</td>\n",
       "      <td>NaN</td>\n",
       "      <td>NaN</td>\n",
       "      <td>...</td>\n",
       "      <td>D1</td>\n",
       "      <td>Feb-2018</td>\n",
       "      <td>Current</td>\n",
       "      <td>fractional</td>\n",
       "      <td>Cash</td>\n",
       "      <td>1824.63</td>\n",
       "      <td>281.80</td>\n",
       "      <td>175.37</td>\n",
       "      <td>106.43</td>\n",
       "      <td>0.0</td>\n",
       "    </tr>\n",
       "    <tr>\n",
       "      <th>3</th>\n",
       "      <td>customer service</td>\n",
       "      <td>1.0</td>\n",
       "      <td>PA</td>\n",
       "      <td>RENT</td>\n",
       "      <td>30000.0</td>\n",
       "      <td>Not Verified</td>\n",
       "      <td>10.16</td>\n",
       "      <td>NaN</td>\n",
       "      <td>NaN</td>\n",
       "      <td>NaN</td>\n",
       "      <td>...</td>\n",
       "      <td>A3</td>\n",
       "      <td>Jan-2018</td>\n",
       "      <td>Current</td>\n",
       "      <td>whole</td>\n",
       "      <td>Cash</td>\n",
       "      <td>18853.26</td>\n",
       "      <td>3312.89</td>\n",
       "      <td>2746.74</td>\n",
       "      <td>566.15</td>\n",
       "      <td>0.0</td>\n",
       "    </tr>\n",
       "    <tr>\n",
       "      <th>4</th>\n",
       "      <td>security supervisor</td>\n",
       "      <td>10.0</td>\n",
       "      <td>CA</td>\n",
       "      <td>RENT</td>\n",
       "      <td>35000.0</td>\n",
       "      <td>Verified</td>\n",
       "      <td>57.96</td>\n",
       "      <td>57000.0</td>\n",
       "      <td>Verified</td>\n",
       "      <td>37.66</td>\n",
       "      <td>...</td>\n",
       "      <td>C3</td>\n",
       "      <td>Mar-2018</td>\n",
       "      <td>Current</td>\n",
       "      <td>whole</td>\n",
       "      <td>Cash</td>\n",
       "      <td>21430.15</td>\n",
       "      <td>2324.65</td>\n",
       "      <td>1569.85</td>\n",
       "      <td>754.80</td>\n",
       "      <td>0.0</td>\n",
       "    </tr>\n",
       "  </tbody>\n",
       "</table>\n",
       "<p>5 rows × 55 columns</p>\n",
       "</div>"
      ],
      "text/plain": [
       "                 emp_title  emp_length state homeownership  annual_income  \\\n",
       "0  global config engineer          3.0    NJ      MORTGAGE        90000.0   \n",
       "1   warehouse office clerk        10.0    HI          RENT        40000.0   \n",
       "2                 assembly         3.0    WI          RENT        40000.0   \n",
       "3         customer service         1.0    PA          RENT        30000.0   \n",
       "4     security supervisor         10.0    CA          RENT        35000.0   \n",
       "\n",
       "   verified_income  debt_to_income  annual_income_joint  \\\n",
       "0         Verified           18.01                  NaN   \n",
       "1     Not Verified            5.04                  NaN   \n",
       "2  Source Verified           21.15                  NaN   \n",
       "3     Not Verified           10.16                  NaN   \n",
       "4         Verified           57.96              57000.0   \n",
       "\n",
       "  verification_income_joint  debt_to_income_joint  ...  sub_grade  \\\n",
       "0                       NaN                   NaN  ...         C3   \n",
       "1                       NaN                   NaN  ...         C1   \n",
       "2                       NaN                   NaN  ...         D1   \n",
       "3                       NaN                   NaN  ...         A3   \n",
       "4                  Verified                 37.66  ...         C3   \n",
       "\n",
       "   issue_month  loan_status  initial_listing_status  disbursement_method  \\\n",
       "0     Mar-2018      Current                   whole                 Cash   \n",
       "1     Feb-2018      Current                   whole                 Cash   \n",
       "2     Feb-2018      Current              fractional                 Cash   \n",
       "3     Jan-2018      Current                   whole                 Cash   \n",
       "4     Mar-2018      Current                   whole                 Cash   \n",
       "\n",
       "    balance  paid_total  paid_principal  paid_interest  paid_late_fees  \n",
       "0  27015.86     1999.33          984.14        1015.19             0.0  \n",
       "1   4651.37      499.12          348.63         150.49             0.0  \n",
       "2   1824.63      281.80          175.37         106.43             0.0  \n",
       "3  18853.26     3312.89         2746.74         566.15             0.0  \n",
       "4  21430.15     2324.65         1569.85         754.80             0.0  \n",
       "\n",
       "[5 rows x 55 columns]"
      ]
     },
     "execution_count": 3,
     "metadata": {},
     "output_type": "execute_result"
    }
   ],
   "source": [
    "loans_df.head()"
   ]
  },
  {
   "cell_type": "code",
   "execution_count": 4,
   "metadata": {},
   "outputs": [
    {
     "name": "stdout",
     "output_type": "stream",
     "text": [
      "The shape of loans data is:  (10000, 55)\n"
     ]
    }
   ],
   "source": [
    "print(\"The shape of loans data is: \", loans_df.shape)"
   ]
  },
  {
   "cell_type": "markdown",
   "metadata": {},
   "source": [
    "# DATA CLEANING"
   ]
  },
  {
   "cell_type": "markdown",
   "metadata": {},
   "source": [
    "### Let's check how many missing values are there."
   ]
  },
  {
   "cell_type": "code",
   "execution_count": 5,
   "metadata": {},
   "outputs": [
    {
     "data": {
      "text/plain": [
       "emp_title                            833\n",
       "emp_length                           817\n",
       "state                                  0\n",
       "homeownership                          0\n",
       "annual_income                          0\n",
       "verified_income                        0\n",
       "debt_to_income                        24\n",
       "annual_income_joint                 8505\n",
       "verification_income_joint           8545\n",
       "debt_to_income_joint                8505\n",
       "delinq_2y                              0\n",
       "months_since_last_delinq            5658\n",
       "earliest_credit_line                   0\n",
       "inquiries_last_12m                     0\n",
       "total_credit_lines                     0\n",
       "open_credit_lines                      0\n",
       "total_credit_limit                     0\n",
       "total_credit_utilized                  0\n",
       "num_collections_last_12m               0\n",
       "num_historical_failed_to_pay           0\n",
       "months_since_90d_late               7715\n",
       "current_accounts_delinq                0\n",
       "total_collection_amount_ever           0\n",
       "current_installment_accounts           0\n",
       "accounts_opened_24m                    0\n",
       "months_since_last_credit_inquiry    1271\n",
       "num_satisfactory_accounts              0\n",
       "num_accounts_120d_past_due           318\n",
       "num_accounts_30d_past_due              0\n",
       "num_active_debit_accounts              0\n",
       "total_debit_limit                      0\n",
       "num_total_cc_accounts                  0\n",
       "num_open_cc_accounts                   0\n",
       "num_cc_carrying_balance                0\n",
       "num_mort_accounts                      0\n",
       "account_never_delinq_percent           0\n",
       "tax_liens                              0\n",
       "public_record_bankrupt                 0\n",
       "loan_purpose                           0\n",
       "application_type                       0\n",
       "loan_amount                            0\n",
       "term                                   0\n",
       "interest_rate                          0\n",
       "installment                            0\n",
       "grade                                  0\n",
       "sub_grade                              0\n",
       "issue_month                            0\n",
       "loan_status                            0\n",
       "initial_listing_status                 0\n",
       "disbursement_method                    0\n",
       "balance                                0\n",
       "paid_total                             0\n",
       "paid_principal                         0\n",
       "paid_interest                          0\n",
       "paid_late_fees                         0\n",
       "dtype: int64"
      ]
     },
     "execution_count": 5,
     "metadata": {},
     "output_type": "execute_result"
    }
   ],
   "source": [
    "loans_df.isnull().sum()"
   ]
  },
  {
   "cell_type": "markdown",
   "metadata": {},
   "source": [
    "#### As we can see above, there any many missing values in a few columns.\n",
    "#### Let's see the percentage of missing values for those columns."
   ]
  },
  {
   "cell_type": "code",
   "execution_count": 6,
   "metadata": {},
   "outputs": [
    {
     "data": {
      "text/html": [
       "<div>\n",
       "<style scoped>\n",
       "    .dataframe tbody tr th:only-of-type {\n",
       "        vertical-align: middle;\n",
       "    }\n",
       "\n",
       "    .dataframe tbody tr th {\n",
       "        vertical-align: top;\n",
       "    }\n",
       "\n",
       "    .dataframe thead th {\n",
       "        text-align: right;\n",
       "    }\n",
       "</style>\n",
       "<table border=\"1\" class=\"dataframe\">\n",
       "  <thead>\n",
       "    <tr style=\"text-align: right;\">\n",
       "      <th></th>\n",
       "      <th>Missing Values</th>\n",
       "      <th>% of Total Values</th>\n",
       "    </tr>\n",
       "  </thead>\n",
       "  <tbody>\n",
       "    <tr>\n",
       "      <th>verification_income_joint</th>\n",
       "      <td>8545</td>\n",
       "      <td>85.45</td>\n",
       "    </tr>\n",
       "    <tr>\n",
       "      <th>annual_income_joint</th>\n",
       "      <td>8505</td>\n",
       "      <td>85.05</td>\n",
       "    </tr>\n",
       "    <tr>\n",
       "      <th>debt_to_income_joint</th>\n",
       "      <td>8505</td>\n",
       "      <td>85.05</td>\n",
       "    </tr>\n",
       "    <tr>\n",
       "      <th>months_since_90d_late</th>\n",
       "      <td>7715</td>\n",
       "      <td>77.15</td>\n",
       "    </tr>\n",
       "    <tr>\n",
       "      <th>months_since_last_delinq</th>\n",
       "      <td>5658</td>\n",
       "      <td>56.58</td>\n",
       "    </tr>\n",
       "    <tr>\n",
       "      <th>months_since_last_credit_inquiry</th>\n",
       "      <td>1271</td>\n",
       "      <td>12.71</td>\n",
       "    </tr>\n",
       "    <tr>\n",
       "      <th>emp_title</th>\n",
       "      <td>833</td>\n",
       "      <td>8.33</td>\n",
       "    </tr>\n",
       "    <tr>\n",
       "      <th>emp_length</th>\n",
       "      <td>817</td>\n",
       "      <td>8.17</td>\n",
       "    </tr>\n",
       "    <tr>\n",
       "      <th>num_accounts_120d_past_due</th>\n",
       "      <td>318</td>\n",
       "      <td>3.18</td>\n",
       "    </tr>\n",
       "    <tr>\n",
       "      <th>debt_to_income</th>\n",
       "      <td>24</td>\n",
       "      <td>0.24</td>\n",
       "    </tr>\n",
       "  </tbody>\n",
       "</table>\n",
       "</div>"
      ],
      "text/plain": [
       "                                  Missing Values  % of Total Values\n",
       "verification_income_joint                   8545              85.45\n",
       "annual_income_joint                         8505              85.05\n",
       "debt_to_income_joint                        8505              85.05\n",
       "months_since_90d_late                       7715              77.15\n",
       "months_since_last_delinq                    5658              56.58\n",
       "months_since_last_credit_inquiry            1271              12.71\n",
       "emp_title                                    833               8.33\n",
       "emp_length                                   817               8.17\n",
       "num_accounts_120d_past_due                   318               3.18\n",
       "debt_to_income                                24               0.24"
      ]
     },
     "execution_count": 6,
     "metadata": {},
     "output_type": "execute_result"
    }
   ],
   "source": [
    "missing_values = pd.concat([loans_df.isnull().sum(),loans_df.isnull().sum()*100/len(loans_df)],axis=1)\n",
    "\n",
    "missing_values = missing_values.rename(columns = {0 : 'Missing Values', 1 : '% of Total Values'})\n",
    "missing_values[missing_values['% of Total Values']>0].sort_values(by='% of Total Values',ascending=False)"
   ]
  },
  {
   "cell_type": "markdown",
   "metadata": {},
   "source": [
    "### Removing columns that are empty (100% missing values)"
   ]
  },
  {
   "cell_type": "code",
   "execution_count": 7,
   "metadata": {},
   "outputs": [],
   "source": [
    "loans_df = loans_df.drop(columns = loans_df.isnull().sum().index[loans_df.isnull().sum()==len(loans_df)])"
   ]
  },
  {
   "cell_type": "code",
   "execution_count": 8,
   "metadata": {},
   "outputs": [
    {
     "data": {
      "text/html": [
       "<div>\n",
       "<style scoped>\n",
       "    .dataframe tbody tr th:only-of-type {\n",
       "        vertical-align: middle;\n",
       "    }\n",
       "\n",
       "    .dataframe tbody tr th {\n",
       "        vertical-align: top;\n",
       "    }\n",
       "\n",
       "    .dataframe thead th {\n",
       "        text-align: right;\n",
       "    }\n",
       "</style>\n",
       "<table border=\"1\" class=\"dataframe\">\n",
       "  <thead>\n",
       "    <tr style=\"text-align: right;\">\n",
       "      <th></th>\n",
       "      <th>Missing Values</th>\n",
       "      <th>% of Total Values</th>\n",
       "    </tr>\n",
       "  </thead>\n",
       "  <tbody>\n",
       "    <tr>\n",
       "      <th>verification_income_joint</th>\n",
       "      <td>8545</td>\n",
       "      <td>85.45</td>\n",
       "    </tr>\n",
       "    <tr>\n",
       "      <th>annual_income_joint</th>\n",
       "      <td>8505</td>\n",
       "      <td>85.05</td>\n",
       "    </tr>\n",
       "    <tr>\n",
       "      <th>debt_to_income_joint</th>\n",
       "      <td>8505</td>\n",
       "      <td>85.05</td>\n",
       "    </tr>\n",
       "    <tr>\n",
       "      <th>months_since_90d_late</th>\n",
       "      <td>7715</td>\n",
       "      <td>77.15</td>\n",
       "    </tr>\n",
       "    <tr>\n",
       "      <th>months_since_last_delinq</th>\n",
       "      <td>5658</td>\n",
       "      <td>56.58</td>\n",
       "    </tr>\n",
       "    <tr>\n",
       "      <th>months_since_last_credit_inquiry</th>\n",
       "      <td>1271</td>\n",
       "      <td>12.71</td>\n",
       "    </tr>\n",
       "    <tr>\n",
       "      <th>emp_title</th>\n",
       "      <td>833</td>\n",
       "      <td>8.33</td>\n",
       "    </tr>\n",
       "    <tr>\n",
       "      <th>emp_length</th>\n",
       "      <td>817</td>\n",
       "      <td>8.17</td>\n",
       "    </tr>\n",
       "    <tr>\n",
       "      <th>num_accounts_120d_past_due</th>\n",
       "      <td>318</td>\n",
       "      <td>3.18</td>\n",
       "    </tr>\n",
       "    <tr>\n",
       "      <th>debt_to_income</th>\n",
       "      <td>24</td>\n",
       "      <td>0.24</td>\n",
       "    </tr>\n",
       "  </tbody>\n",
       "</table>\n",
       "</div>"
      ],
      "text/plain": [
       "                                  Missing Values  % of Total Values\n",
       "verification_income_joint                   8545              85.45\n",
       "annual_income_joint                         8505              85.05\n",
       "debt_to_income_joint                        8505              85.05\n",
       "months_since_90d_late                       7715              77.15\n",
       "months_since_last_delinq                    5658              56.58\n",
       "months_since_last_credit_inquiry            1271              12.71\n",
       "emp_title                                    833               8.33\n",
       "emp_length                                   817               8.17\n",
       "num_accounts_120d_past_due                   318               3.18\n",
       "debt_to_income                                24               0.24"
      ]
     },
     "execution_count": 8,
     "metadata": {},
     "output_type": "execute_result"
    }
   ],
   "source": [
    "missing_values = pd.concat([loans_df.isnull().sum(),loans_df.isnull().sum()*100/len(loans_df)],axis=1)\n",
    "\n",
    "missing_values = missing_values.rename(columns = {0 : 'Missing Values', 1 : '% of Total Values'})\n",
    "missing_values[missing_values['% of Total Values']>0].sort_values(by='% of Total Values',ascending=False)"
   ]
  },
  {
   "cell_type": "markdown",
   "metadata": {},
   "source": [
    "### Drop columns with greater than 50% missing values"
   ]
  },
  {
   "cell_type": "code",
   "execution_count": 9,
   "metadata": {},
   "outputs": [],
   "source": [
    "drop_list = missing_values[missing_values['% of Total Values']>50].index\n",
    "loans_df = loans_df.drop(columns = list(drop_list))\n",
    "\n",
    "# Dropped columns: verification_income_joint, annual_income_joint, debt_to_income_joint, \n",
    "# months_since_90d_late, monhs_since_last_delinq"
   ]
  },
  {
   "cell_type": "code",
   "execution_count": 10,
   "metadata": {},
   "outputs": [
    {
     "data": {
      "text/plain": [
       "(10000, 50)"
      ]
     },
     "execution_count": 10,
     "metadata": {},
     "output_type": "execute_result"
    }
   ],
   "source": [
    "loans_df.shape"
   ]
  },
  {
   "cell_type": "code",
   "execution_count": 11,
   "metadata": {},
   "outputs": [
    {
     "data": {
      "text/html": [
       "<div>\n",
       "<style scoped>\n",
       "    .dataframe tbody tr th:only-of-type {\n",
       "        vertical-align: middle;\n",
       "    }\n",
       "\n",
       "    .dataframe tbody tr th {\n",
       "        vertical-align: top;\n",
       "    }\n",
       "\n",
       "    .dataframe thead th {\n",
       "        text-align: right;\n",
       "    }\n",
       "</style>\n",
       "<table border=\"1\" class=\"dataframe\">\n",
       "  <thead>\n",
       "    <tr style=\"text-align: right;\">\n",
       "      <th></th>\n",
       "      <th>Missing Values</th>\n",
       "      <th>% of Total Values</th>\n",
       "    </tr>\n",
       "  </thead>\n",
       "  <tbody>\n",
       "    <tr>\n",
       "      <th>months_since_last_credit_inquiry</th>\n",
       "      <td>1271</td>\n",
       "      <td>12.71</td>\n",
       "    </tr>\n",
       "    <tr>\n",
       "      <th>emp_title</th>\n",
       "      <td>833</td>\n",
       "      <td>8.33</td>\n",
       "    </tr>\n",
       "    <tr>\n",
       "      <th>emp_length</th>\n",
       "      <td>817</td>\n",
       "      <td>8.17</td>\n",
       "    </tr>\n",
       "    <tr>\n",
       "      <th>num_accounts_120d_past_due</th>\n",
       "      <td>318</td>\n",
       "      <td>3.18</td>\n",
       "    </tr>\n",
       "    <tr>\n",
       "      <th>debt_to_income</th>\n",
       "      <td>24</td>\n",
       "      <td>0.24</td>\n",
       "    </tr>\n",
       "  </tbody>\n",
       "</table>\n",
       "</div>"
      ],
      "text/plain": [
       "                                  Missing Values  % of Total Values\n",
       "months_since_last_credit_inquiry            1271              12.71\n",
       "emp_title                                    833               8.33\n",
       "emp_length                                   817               8.17\n",
       "num_accounts_120d_past_due                   318               3.18\n",
       "debt_to_income                                24               0.24"
      ]
     },
     "execution_count": 11,
     "metadata": {},
     "output_type": "execute_result"
    }
   ],
   "source": [
    "missing_values = pd.concat([loans_df.isnull().sum(),loans_df.isnull().sum()*100/len(loans_df)],axis=1)\n",
    "missing_values = missing_values.rename(columns = {0 : 'Missing Values', 1 : '% of Total Values'})\n",
    "missing_values[missing_values['% of Total Values']>0].sort_values(by='% of Total Values',ascending=False)"
   ]
  },
  {
   "cell_type": "markdown",
   "metadata": {},
   "source": [
    "#### As obeserved above, only total of 12% data is missing currently.\n",
    "#### Remove rows for non-numerical columns such as emp_title, emp_length "
   ]
  },
  {
   "cell_type": "code",
   "execution_count": 12,
   "metadata": {},
   "outputs": [],
   "source": [
    "loans_df = loans_df[~loans_df.emp_title.isnull()]\n",
    "loans_df = loans_df[~loans_df.emp_length.isnull()]"
   ]
  },
  {
   "cell_type": "markdown",
   "metadata": {},
   "source": [
    "#### Let's fill in the numerical columns data using mean, median and mode accordingly."
   ]
  },
  {
   "cell_type": "code",
   "execution_count": 13,
   "metadata": {},
   "outputs": [
    {
     "name": "stdout",
     "output_type": "stream",
     "text": [
      "Months since last inquiry: 7.35550031075202\n"
     ]
    }
   ],
   "source": [
    "# Calculate the avg of the column - months_since_last_credit_inquiry\n",
    "months_last_inquiry = loans_df[\"months_since_last_credit_inquiry\"].astype(\"float\").mean(axis=0)\n",
    "print(\"Months since last inquiry:\", months_last_inquiry)\n",
    "\n",
    "# Replace \"NaN\" by mean value in \"months_since_last_credit_inquiry\" column\n",
    "loans_df[\"months_since_last_credit_inquiry\"].replace(np.nan, months_last_inquiry, inplace=True)"
   ]
  },
  {
   "cell_type": "code",
   "execution_count": 14,
   "metadata": {},
   "outputs": [
    {
     "name": "stdout",
     "output_type": "stream",
     "text": [
      "Number of accounts past due: 0.0\n"
     ]
    }
   ],
   "source": [
    "# Calculate the avg of the column - months_since_last_credit_inquiry\n",
    "num_accounts_120 = loans_df[\"num_accounts_120d_past_due\"].astype(\"float\").mean(axis=0)\n",
    "print(\"Number of accounts past due:\", num_accounts_120)\n",
    "\n",
    "# Replace \"NaN\" by mean value in \"months_since_last_credit_inquiry\" column\n",
    "loans_df[\"num_accounts_120d_past_due\"].replace(np.nan, num_accounts_120, inplace=True)"
   ]
  },
  {
   "cell_type": "code",
   "execution_count": 15,
   "metadata": {},
   "outputs": [
    {
     "name": "stdout",
     "output_type": "stream",
     "text": [
      "Debt Income Average: 18.996415012000917\n"
     ]
    }
   ],
   "source": [
    "# Calculate the avg of the column - months_since_last_credit_inquiry\n",
    "debt_income = loans_df[\"debt_to_income\"].astype(\"float\").mean(axis=0)\n",
    "print(\"Debt Income Average:\", debt_income)\n",
    "\n",
    "# Replace \"NaN\" by mean value in \"months_since_last_credit_inquiry\" column\n",
    "loans_df[\"debt_to_income\"].replace(np.nan, debt_income, inplace=True)"
   ]
  },
  {
   "cell_type": "code",
   "execution_count": 16,
   "metadata": {},
   "outputs": [
    {
     "data": {
      "text/html": [
       "<div>\n",
       "<style scoped>\n",
       "    .dataframe tbody tr th:only-of-type {\n",
       "        vertical-align: middle;\n",
       "    }\n",
       "\n",
       "    .dataframe tbody tr th {\n",
       "        vertical-align: top;\n",
       "    }\n",
       "\n",
       "    .dataframe thead th {\n",
       "        text-align: right;\n",
       "    }\n",
       "</style>\n",
       "<table border=\"1\" class=\"dataframe\">\n",
       "  <thead>\n",
       "    <tr style=\"text-align: right;\">\n",
       "      <th></th>\n",
       "      <th>Missing Values</th>\n",
       "      <th>% of Total Values</th>\n",
       "    </tr>\n",
       "  </thead>\n",
       "  <tbody>\n",
       "  </tbody>\n",
       "</table>\n",
       "</div>"
      ],
      "text/plain": [
       "Empty DataFrame\n",
       "Columns: [Missing Values, % of Total Values]\n",
       "Index: []"
      ]
     },
     "execution_count": 16,
     "metadata": {},
     "output_type": "execute_result"
    }
   ],
   "source": [
    "missing_values = pd.concat([loans_df.isnull().sum(),loans_df.isnull().sum()*100/len(loans_df)],axis=1)\n",
    "missing_values = missing_values.rename(columns = {0 : 'Missing Values', 1 : '% of Total Values'})\n",
    "missing_values[missing_values['% of Total Values']>0].sort_values(by='% of Total Values',ascending=False)"
   ]
  },
  {
   "cell_type": "markdown",
   "metadata": {},
   "source": [
    "### As we can see above, now we don't have any missing values"
   ]
  },
  {
   "cell_type": "code",
   "execution_count": 17,
   "metadata": {},
   "outputs": [
    {
     "data": {
      "text/plain": [
       "emp_title                           0\n",
       "emp_length                          0\n",
       "state                               0\n",
       "homeownership                       0\n",
       "annual_income                       0\n",
       "verified_income                     0\n",
       "debt_to_income                      0\n",
       "delinq_2y                           0\n",
       "earliest_credit_line                0\n",
       "inquiries_last_12m                  0\n",
       "total_credit_lines                  0\n",
       "open_credit_lines                   0\n",
       "total_credit_limit                  0\n",
       "total_credit_utilized               0\n",
       "num_collections_last_12m            0\n",
       "num_historical_failed_to_pay        0\n",
       "current_accounts_delinq             0\n",
       "total_collection_amount_ever        0\n",
       "current_installment_accounts        0\n",
       "accounts_opened_24m                 0\n",
       "months_since_last_credit_inquiry    0\n",
       "num_satisfactory_accounts           0\n",
       "num_accounts_120d_past_due          0\n",
       "num_accounts_30d_past_due           0\n",
       "num_active_debit_accounts           0\n",
       "total_debit_limit                   0\n",
       "num_total_cc_accounts               0\n",
       "num_open_cc_accounts                0\n",
       "num_cc_carrying_balance             0\n",
       "num_mort_accounts                   0\n",
       "account_never_delinq_percent        0\n",
       "tax_liens                           0\n",
       "public_record_bankrupt              0\n",
       "loan_purpose                        0\n",
       "application_type                    0\n",
       "loan_amount                         0\n",
       "term                                0\n",
       "interest_rate                       0\n",
       "installment                         0\n",
       "grade                               0\n",
       "sub_grade                           0\n",
       "issue_month                         0\n",
       "loan_status                         0\n",
       "initial_listing_status              0\n",
       "disbursement_method                 0\n",
       "balance                             0\n",
       "paid_total                          0\n",
       "paid_principal                      0\n",
       "paid_interest                       0\n",
       "paid_late_fees                      0\n",
       "dtype: int64"
      ]
     },
     "execution_count": 17,
     "metadata": {},
     "output_type": "execute_result"
    }
   ],
   "source": [
    "loans_df.isnull().sum()"
   ]
  },
  {
   "cell_type": "code",
   "execution_count": 18,
   "metadata": {},
   "outputs": [
    {
     "data": {
      "text/plain": [
       "(9167, 50)"
      ]
     },
     "execution_count": 18,
     "metadata": {},
     "output_type": "execute_result"
    }
   ],
   "source": [
    "loans_df.shape"
   ]
  },
  {
   "cell_type": "markdown",
   "metadata": {},
   "source": [
    "#### As we can see above, we now don't have any missing values in our dataset and we have reduced our dataset to 9167 records and only 50 columns with no missing values."
   ]
  },
  {
   "cell_type": "code",
   "execution_count": 19,
   "metadata": {},
   "outputs": [
    {
     "data": {
      "text/plain": [
       "num_accounts_120d_past_due             1\n",
       "term                                   2\n",
       "current_accounts_delinq                2\n",
       "application_type                       2\n",
       "num_accounts_30d_past_due              2\n",
       "initial_listing_status                 2\n",
       "disbursement_method                    2\n",
       "verified_income                        3\n",
       "issue_month                            3\n",
       "homeownership                          3\n",
       "public_record_bankrupt                 4\n",
       "num_collections_last_12m               4\n",
       "loan_status                            6\n",
       "grade                                  7\n",
       "num_historical_failed_to_pay           9\n",
       "tax_liens                              9\n",
       "emp_length                            11\n",
       "loan_purpose                          12\n",
       "delinq_2y                             12\n",
       "num_mort_accounts                     14\n",
       "num_active_debit_accounts             24\n",
       "inquiries_last_12m                    25\n",
       "accounts_opened_24m                   26\n",
       "months_since_last_credit_inquiry      26\n",
       "paid_late_fees                        27\n",
       "num_cc_carrying_balance               30\n",
       "current_installment_accounts          30\n",
       "sub_grade                             32\n",
       "num_open_cc_accounts                  39\n",
       "num_satisfactory_accounts             45\n",
       "open_credit_lines                     45\n",
       "state                                 50\n",
       "earliest_credit_line                  51\n",
       "num_total_cc_accounts                 56\n",
       "interest_rate                         58\n",
       "total_credit_lines                    77\n",
       "account_never_delinq_percent         280\n",
       "loan_amount                          567\n",
       "total_collection_amount_ever         847\n",
       "total_debit_limit                   1190\n",
       "annual_income                       1249\n",
       "installment                         3359\n",
       "debt_to_income                      3534\n",
       "emp_title                           4741\n",
       "balance                             5356\n",
       "paid_principal                      5383\n",
       "paid_interest                       6890\n",
       "paid_total                          6930\n",
       "total_credit_limit                  8499\n",
       "total_credit_utilized               8747\n",
       "dtype: int64"
      ]
     },
     "execution_count": 19,
     "metadata": {},
     "output_type": "execute_result"
    }
   ],
   "source": [
    "loans_df.nunique().sort_values()"
   ]
  },
  {
   "cell_type": "markdown",
   "metadata": {},
   "source": [
    "#### We have a column \"num_accounts_120d_past_due \" that has only 1 attribute, which doesn't contribute much to the analysis. Hence we can drop it."
   ]
  },
  {
   "cell_type": "code",
   "execution_count": 20,
   "metadata": {},
   "outputs": [
    {
     "data": {
      "text/plain": [
       "(9167, 49)"
      ]
     },
     "execution_count": 20,
     "metadata": {},
     "output_type": "execute_result"
    }
   ],
   "source": [
    "single_value_list = loans_df.nunique().sort_values()[loans_df.nunique().sort_values()==1]\n",
    "loans_df = loans_df.drop(columns = list(single_value_list.index))\n",
    "loans_df.shape"
   ]
  },
  {
   "cell_type": "markdown",
   "metadata": {},
   "source": [
    "### Let's have a look at our data types in our dataset and try to correct it to the right format"
   ]
  },
  {
   "cell_type": "code",
   "execution_count": 21,
   "metadata": {
    "scrolled": false
   },
   "outputs": [
    {
     "data": {
      "text/plain": [
       "emp_title                            object\n",
       "emp_length                          float64\n",
       "state                                object\n",
       "homeownership                        object\n",
       "annual_income                       float64\n",
       "verified_income                      object\n",
       "debt_to_income                      float64\n",
       "delinq_2y                             int64\n",
       "earliest_credit_line                  int64\n",
       "inquiries_last_12m                    int64\n",
       "total_credit_lines                    int64\n",
       "open_credit_lines                     int64\n",
       "total_credit_limit                    int64\n",
       "total_credit_utilized                 int64\n",
       "num_collections_last_12m              int64\n",
       "num_historical_failed_to_pay          int64\n",
       "current_accounts_delinq               int64\n",
       "total_collection_amount_ever          int64\n",
       "current_installment_accounts          int64\n",
       "accounts_opened_24m                   int64\n",
       "months_since_last_credit_inquiry    float64\n",
       "num_satisfactory_accounts             int64\n",
       "num_accounts_30d_past_due             int64\n",
       "num_active_debit_accounts             int64\n",
       "total_debit_limit                     int64\n",
       "num_total_cc_accounts                 int64\n",
       "num_open_cc_accounts                  int64\n",
       "num_cc_carrying_balance               int64\n",
       "num_mort_accounts                     int64\n",
       "account_never_delinq_percent        float64\n",
       "tax_liens                             int64\n",
       "public_record_bankrupt                int64\n",
       "loan_purpose                         object\n",
       "application_type                     object\n",
       "loan_amount                           int64\n",
       "term                                  int64\n",
       "interest_rate                       float64\n",
       "installment                         float64\n",
       "grade                                object\n",
       "sub_grade                            object\n",
       "issue_month                          object\n",
       "loan_status                          object\n",
       "initial_listing_status               object\n",
       "disbursement_method                  object\n",
       "balance                             float64\n",
       "paid_total                          float64\n",
       "paid_principal                      float64\n",
       "paid_interest                       float64\n",
       "paid_late_fees                      float64\n",
       "dtype: object"
      ]
     },
     "execution_count": 21,
     "metadata": {},
     "output_type": "execute_result"
    }
   ],
   "source": [
    "loans_df.dtypes"
   ]
  },
  {
   "cell_type": "markdown",
   "metadata": {},
   "source": [
    "### Converting the issue_month to Date Type format"
   ]
  },
  {
   "cell_type": "code",
   "execution_count": 22,
   "metadata": {},
   "outputs": [
    {
     "data": {
      "text/plain": [
       "0    Mar-2018\n",
       "1    Feb-2018\n",
       "2    Feb-2018\n",
       "3    Jan-2018\n",
       "4    Mar-2018\n",
       "Name: issue_month, dtype: object"
      ]
     },
     "execution_count": 22,
     "metadata": {},
     "output_type": "execute_result"
    }
   ],
   "source": [
    "loans_df.issue_month.head()"
   ]
  },
  {
   "cell_type": "code",
   "execution_count": 23,
   "metadata": {},
   "outputs": [],
   "source": [
    "loans_df['issue_month'] = pd.to_datetime(loans_df['issue_month'])"
   ]
  },
  {
   "cell_type": "code",
   "execution_count": 24,
   "metadata": {
    "scrolled": true
   },
   "outputs": [
    {
     "data": {
      "text/plain": [
       "9995   2018-01-01\n",
       "9996   2018-02-01\n",
       "9997   2018-02-01\n",
       "9998   2018-02-01\n",
       "9999   2018-02-01\n",
       "Name: issue_month, dtype: datetime64[ns]"
      ]
     },
     "execution_count": 24,
     "metadata": {},
     "output_type": "execute_result"
    }
   ],
   "source": [
    "loans_df.issue_month.tail()"
   ]
  },
  {
   "cell_type": "code",
   "execution_count": 25,
   "metadata": {},
   "outputs": [],
   "source": [
    "# Converting the dtype of issue_month Object to datetime format\n",
    "\n",
    "loans_df.issue_month = pd.to_datetime(loans_df.issue_month, format='%b-%y')"
   ]
  },
  {
   "cell_type": "code",
   "execution_count": 26,
   "metadata": {},
   "outputs": [
    {
     "data": {
      "text/plain": [
       "0   2018-03-01\n",
       "1   2018-02-01\n",
       "2   2018-02-01\n",
       "3   2018-01-01\n",
       "4   2018-03-01\n",
       "Name: issue_month, dtype: datetime64[ns]"
      ]
     },
     "execution_count": 26,
     "metadata": {},
     "output_type": "execute_result"
    }
   ],
   "source": [
    "loans_df.issue_month.head()"
   ]
  },
  {
   "cell_type": "code",
   "execution_count": 27,
   "metadata": {},
   "outputs": [],
   "source": [
    "loans_df['issue_year'] = loans_df['issue_month'].dt.to_period('Y')"
   ]
  },
  {
   "cell_type": "code",
   "execution_count": 28,
   "metadata": {
    "scrolled": true
   },
   "outputs": [
    {
     "data": {
      "text/html": [
       "<div>\n",
       "<style scoped>\n",
       "    .dataframe tbody tr th:only-of-type {\n",
       "        vertical-align: middle;\n",
       "    }\n",
       "\n",
       "    .dataframe tbody tr th {\n",
       "        vertical-align: top;\n",
       "    }\n",
       "\n",
       "    .dataframe thead th {\n",
       "        text-align: right;\n",
       "    }\n",
       "</style>\n",
       "<table border=\"1\" class=\"dataframe\">\n",
       "  <thead>\n",
       "    <tr style=\"text-align: right;\">\n",
       "      <th></th>\n",
       "      <th>emp_title</th>\n",
       "      <th>emp_length</th>\n",
       "      <th>state</th>\n",
       "      <th>homeownership</th>\n",
       "      <th>annual_income</th>\n",
       "      <th>verified_income</th>\n",
       "      <th>debt_to_income</th>\n",
       "      <th>delinq_2y</th>\n",
       "      <th>earliest_credit_line</th>\n",
       "      <th>inquiries_last_12m</th>\n",
       "      <th>...</th>\n",
       "      <th>issue_month</th>\n",
       "      <th>loan_status</th>\n",
       "      <th>initial_listing_status</th>\n",
       "      <th>disbursement_method</th>\n",
       "      <th>balance</th>\n",
       "      <th>paid_total</th>\n",
       "      <th>paid_principal</th>\n",
       "      <th>paid_interest</th>\n",
       "      <th>paid_late_fees</th>\n",
       "      <th>issue_year</th>\n",
       "    </tr>\n",
       "  </thead>\n",
       "  <tbody>\n",
       "    <tr>\n",
       "      <th>9995</th>\n",
       "      <td>owner</td>\n",
       "      <td>10.0</td>\n",
       "      <td>TX</td>\n",
       "      <td>RENT</td>\n",
       "      <td>108000.0</td>\n",
       "      <td>Source Verified</td>\n",
       "      <td>22.28</td>\n",
       "      <td>0</td>\n",
       "      <td>2008</td>\n",
       "      <td>5</td>\n",
       "      <td>...</td>\n",
       "      <td>2018-01-01</td>\n",
       "      <td>Current</td>\n",
       "      <td>whole</td>\n",
       "      <td>Cash</td>\n",
       "      <td>21586.34</td>\n",
       "      <td>2969.80</td>\n",
       "      <td>2413.66</td>\n",
       "      <td>556.14</td>\n",
       "      <td>0.0</td>\n",
       "      <td>2018</td>\n",
       "    </tr>\n",
       "    <tr>\n",
       "      <th>9996</th>\n",
       "      <td>director</td>\n",
       "      <td>8.0</td>\n",
       "      <td>PA</td>\n",
       "      <td>MORTGAGE</td>\n",
       "      <td>121000.0</td>\n",
       "      <td>Verified</td>\n",
       "      <td>32.38</td>\n",
       "      <td>4</td>\n",
       "      <td>1994</td>\n",
       "      <td>1</td>\n",
       "      <td>...</td>\n",
       "      <td>2018-02-01</td>\n",
       "      <td>Current</td>\n",
       "      <td>whole</td>\n",
       "      <td>Cash</td>\n",
       "      <td>9147.44</td>\n",
       "      <td>1456.31</td>\n",
       "      <td>852.56</td>\n",
       "      <td>603.75</td>\n",
       "      <td>0.0</td>\n",
       "      <td>2018</td>\n",
       "    </tr>\n",
       "    <tr>\n",
       "      <th>9997</th>\n",
       "      <td>toolmaker</td>\n",
       "      <td>10.0</td>\n",
       "      <td>CT</td>\n",
       "      <td>MORTGAGE</td>\n",
       "      <td>67000.0</td>\n",
       "      <td>Verified</td>\n",
       "      <td>45.26</td>\n",
       "      <td>2</td>\n",
       "      <td>2004</td>\n",
       "      <td>0</td>\n",
       "      <td>...</td>\n",
       "      <td>2018-02-01</td>\n",
       "      <td>Current</td>\n",
       "      <td>fractional</td>\n",
       "      <td>Cash</td>\n",
       "      <td>27617.65</td>\n",
       "      <td>4620.80</td>\n",
       "      <td>2382.35</td>\n",
       "      <td>2238.45</td>\n",
       "      <td>0.0</td>\n",
       "      <td>2018</td>\n",
       "    </tr>\n",
       "    <tr>\n",
       "      <th>9998</th>\n",
       "      <td>manager</td>\n",
       "      <td>1.0</td>\n",
       "      <td>WI</td>\n",
       "      <td>MORTGAGE</td>\n",
       "      <td>80000.0</td>\n",
       "      <td>Source Verified</td>\n",
       "      <td>11.99</td>\n",
       "      <td>0</td>\n",
       "      <td>1999</td>\n",
       "      <td>1</td>\n",
       "      <td>...</td>\n",
       "      <td>2018-02-01</td>\n",
       "      <td>Current</td>\n",
       "      <td>whole</td>\n",
       "      <td>Cash</td>\n",
       "      <td>21518.12</td>\n",
       "      <td>2873.31</td>\n",
       "      <td>2481.88</td>\n",
       "      <td>391.43</td>\n",
       "      <td>0.0</td>\n",
       "      <td>2018</td>\n",
       "    </tr>\n",
       "    <tr>\n",
       "      <th>9999</th>\n",
       "      <td>operations analyst</td>\n",
       "      <td>3.0</td>\n",
       "      <td>CT</td>\n",
       "      <td>RENT</td>\n",
       "      <td>66000.0</td>\n",
       "      <td>Not Verified</td>\n",
       "      <td>20.82</td>\n",
       "      <td>0</td>\n",
       "      <td>2005</td>\n",
       "      <td>0</td>\n",
       "      <td>...</td>\n",
       "      <td>2018-02-01</td>\n",
       "      <td>Current</td>\n",
       "      <td>whole</td>\n",
       "      <td>Cash</td>\n",
       "      <td>11574.83</td>\n",
       "      <td>1658.56</td>\n",
       "      <td>1225.17</td>\n",
       "      <td>433.39</td>\n",
       "      <td>0.0</td>\n",
       "      <td>2018</td>\n",
       "    </tr>\n",
       "  </tbody>\n",
       "</table>\n",
       "<p>5 rows × 50 columns</p>\n",
       "</div>"
      ],
      "text/plain": [
       "               emp_title  emp_length state homeownership  annual_income  \\\n",
       "9995              owner         10.0    TX          RENT       108000.0   \n",
       "9996            director         8.0    PA      MORTGAGE       121000.0   \n",
       "9997           toolmaker        10.0    CT      MORTGAGE        67000.0   \n",
       "9998             manager         1.0    WI      MORTGAGE        80000.0   \n",
       "9999  operations analyst         3.0    CT          RENT        66000.0   \n",
       "\n",
       "      verified_income  debt_to_income  delinq_2y  earliest_credit_line  \\\n",
       "9995  Source Verified           22.28          0                  2008   \n",
       "9996         Verified           32.38          4                  1994   \n",
       "9997         Verified           45.26          2                  2004   \n",
       "9998  Source Verified           11.99          0                  1999   \n",
       "9999     Not Verified           20.82          0                  2005   \n",
       "\n",
       "      inquiries_last_12m  ...  issue_month  loan_status  \\\n",
       "9995                   5  ...   2018-01-01      Current   \n",
       "9996                   1  ...   2018-02-01      Current   \n",
       "9997                   0  ...   2018-02-01      Current   \n",
       "9998                   1  ...   2018-02-01      Current   \n",
       "9999                   0  ...   2018-02-01      Current   \n",
       "\n",
       "      initial_listing_status  disbursement_method   balance  paid_total  \\\n",
       "9995                   whole                 Cash  21586.34     2969.80   \n",
       "9996                   whole                 Cash   9147.44     1456.31   \n",
       "9997              fractional                 Cash  27617.65     4620.80   \n",
       "9998                   whole                 Cash  21518.12     2873.31   \n",
       "9999                   whole                 Cash  11574.83     1658.56   \n",
       "\n",
       "      paid_principal  paid_interest  paid_late_fees  issue_year  \n",
       "9995         2413.66         556.14             0.0        2018  \n",
       "9996          852.56         603.75             0.0        2018  \n",
       "9997         2382.35        2238.45             0.0        2018  \n",
       "9998         2481.88         391.43             0.0        2018  \n",
       "9999         1225.17         433.39             0.0        2018  \n",
       "\n",
       "[5 rows x 50 columns]"
      ]
     },
     "execution_count": 28,
     "metadata": {},
     "output_type": "execute_result"
    }
   ],
   "source": [
    "loans_df.tail()"
   ]
  },
  {
   "cell_type": "code",
   "execution_count": 29,
   "metadata": {},
   "outputs": [],
   "source": [
    "loans_df = loans_df.drop('issue_month', 1)"
   ]
  },
  {
   "cell_type": "code",
   "execution_count": 30,
   "metadata": {},
   "outputs": [
    {
     "data": {
      "text/plain": [
       "2018    9167\n",
       "Name: issue_year, dtype: int64"
      ]
     },
     "execution_count": 30,
     "metadata": {},
     "output_type": "execute_result"
    }
   ],
   "source": [
    "loans_df.issue_year.dt.year.value_counts()"
   ]
  },
  {
   "cell_type": "code",
   "execution_count": 31,
   "metadata": {
    "scrolled": true
   },
   "outputs": [
    {
     "data": {
      "text/plain": [
       "(9167, 49)"
      ]
     },
     "execution_count": 31,
     "metadata": {},
     "output_type": "execute_result"
    }
   ],
   "source": [
    "loans_df.shape"
   ]
  },
  {
   "cell_type": "markdown",
   "metadata": {},
   "source": [
    "# DATA ANALYSIS - Univariate"
   ]
  },
  {
   "cell_type": "code",
   "execution_count": 32,
   "metadata": {},
   "outputs": [],
   "source": [
    "# Resource : https://queirozf.com/entries/add-labels-and-text-to-matplotlib-plots-annotation-examples\n",
    "def barplot_labels(xs,ys,percent = False):\n",
    "    plt.clf()\n",
    "\n",
    "# using some dummy data for this example\n",
    "    \n",
    "    plt.figure(figsize=(16,5))\n",
    "    plt.bar(xs,ys,color = sb.color_palette('husl', 16))\n",
    "\n",
    "    # zip joins x and y coordinates in pairs\n",
    "    for x,y in zip(xs,ys):\n",
    "        label = \"{:.2f}\".format(y)\n",
    "\n",
    "        plt.annotate(label, # this is the text\n",
    "                     (x,y), # this is the point to label\n",
    "                     textcoords=\"offset points\", # how to position the text\n",
    "                     xytext=(0,10), # distance from text to points (x,y)\n",
    "                     ha='center') # horizontal alignment can be left, right or center"
   ]
  },
  {
   "cell_type": "code",
   "execution_count": 33,
   "metadata": {
    "scrolled": false
   },
   "outputs": [
    {
     "data": {
      "text/plain": [
       "<Figure size 432x288 with 0 Axes>"
      ]
     },
     "metadata": {},
     "output_type": "display_data"
    },
    {
     "data": {
      "image/png": "[encoded data removed]",
      "text/plain": [
       "<Figure size 1152x360 with 1 Axes>"
      ]
     },
     "metadata": {
      "needs_background": "light"
     },
     "output_type": "display_data"
    }
   ],
   "source": [
    "barplot_labels(loans_df.loan_status.value_counts().index, loans_df.loan_status.value_counts())"
   ]
  },
  {
   "cell_type": "markdown",
   "metadata": {},
   "source": [
    "### Box Plot distribution of loan amount based on loan status"
   ]
  },
  {
   "cell_type": "code",
   "execution_count": 34,
   "metadata": {},
   "outputs": [
    {
     "data": {
      "image/png": "[encoded data removed]",
      "text/plain": [
       "<Figure size 432x288 with 1 Axes>"
      ]
     },
     "metadata": {
      "needs_background": "light"
     },
     "output_type": "display_data"
    }
   ],
   "source": [
    "sb.boxplot(data = loans_df,x='loan_status',y='loan_amount')\n",
    "plt.grid(axis='y')"
   ]
  },
  {
   "cell_type": "code",
   "execution_count": 35,
   "metadata": {},
   "outputs": [],
   "source": [
    "loans_df['loan_amount_bins'] = pd.cut(x=loans_df['loan_amount'], bins=np.arange(0,36000,5000))"
   ]
  },
  {
   "cell_type": "code",
   "execution_count": 46,
   "metadata": {},
   "outputs": [],
   "source": [
    "# Resource : https://stackoverflow.com/questions/43214978/seaborn-barplot-displaying-values\n",
    "def show_values_on_bars(axs,percent=True, h_v=\"v\", space=0.4):\n",
    "    def _show_on_single_plot(ax):\n",
    "        if h_v == \"v\":\n",
    "            for p in ax.patches:\n",
    "                _x = p.get_x() + p.get_width() / 2\n",
    "                _y = p.get_y() + p.get_height()+0.4\n",
    "                if p.get_height()>0 and percent:\n",
    "                    value = str(int(p.get_height()))+'%'\n",
    "                elif percent==False and p.get_height()>0:\n",
    "                    value = str(int(p.get_height()))\n",
    "                else:\n",
    "                    value='0%'\n",
    "                \n",
    "                ax.text(_x, _y, value, ha=\"center\",fontsize='16') \n",
    "        elif h_v == \"h\":\n",
    "            for p in ax.patches:\n",
    "                _x = p.get_x() + p.get_width() + float(space)\n",
    "                _y = p.get_y() + p.get_height()\n",
    "                value = int(p.get_width())\n",
    "                ax.text(_x, _y, value, ha=\"left\")\n",
    "\n",
    "    if isinstance(axs, np.ndarray):\n",
    "        for idx, ax in np.ndenumerate(axs):\n",
    "            _show_on_single_plot(ax)\n",
    "    else:\n",
    "        _show_on_single_plot(axs)"
   ]
  },
  {
   "cell_type": "code",
   "execution_count": 51,
   "metadata": {},
   "outputs": [
    {
     "data": {
      "image/png": "[encoded data removed]",
      "text/plain": [
       "<Figure size 1080x720 with 1 Axes>"
      ]
     },
     "metadata": {
      "needs_background": "light"
     },
     "output_type": "display_data"
    }
   ],
   "source": [
    "g= (loans_df[loans_df['loan_status']=='Fully Paid'].loan_amount_bins.value_counts()*100/loans_df.loan_amount_bins.value_counts())\n",
    "\n",
    "plt.figure(figsize=(15,10))\n",
    "f = sb.barplot(g.index,g,palette=sb.color_palette('Set2', 16))\n",
    "f.set_title('Rate based on loan amount')\n",
    "\n",
    "show_values_on_bars(f)"
   ]
  },
  {
   "cell_type": "code",
   "execution_count": null,
   "metadata": {},
   "outputs": [],
   "source": []
  },
  {
   "cell_type": "markdown",
   "metadata": {},
   "source": [
    "### Interest Rate Analysis"
   ]
  },
  {
   "cell_type": "code",
   "execution_count": 48,
   "metadata": {},
   "outputs": [
    {
     "data": {
      "text/plain": [
       "Text(0.5, 1.0, 'Interest Rate Distribution for Current')"
      ]
     },
     "execution_count": 48,
     "metadata": {},
     "output_type": "execute_result"
    },
    {
     "data": {
      "image/png": "[encoded data removed]",
      "text/plain": [
       "<Figure size 2160x864 with 2 Axes>"
      ]
     },
     "metadata": {
      "needs_background": "light"
     },
     "output_type": "display_data"
    }
   ],
   "source": [
    "f,axes = plt.subplots(1,2,figsize=(30,12))\n",
    "sb.distplot(loans_df[loans_df.loan_status=='Fully Paid'].interest_rate,ax = axes[0])\n",
    "sb.distplot(loans_df[loans_df.loan_status=='Current'].interest_rate,ax = axes[1])\n",
    "axes[0].set_title(\"Interest Rate Distribution for Fully Paid\")\n",
    "axes[1].set_title(\"Interest Rate Distribution for Current\")"
   ]
  },
  {
   "cell_type": "code",
   "execution_count": 49,
   "metadata": {},
   "outputs": [
    {
     "data": {
      "image/png": "[encoded data removed]",
      "text/plain": [
       "<Figure size 432x288 with 1 Axes>"
      ]
     },
     "metadata": {
      "needs_background": "light"
     },
     "output_type": "display_data"
    }
   ],
   "source": [
    "# Box plot distribution of Interest Rate based on Loan_status\n",
    "ax = sb.boxplot(x = loans_df.loan_status, y=loans_df.interest_rate)\n",
    "ax.set_title(\"Box plot distribution of interest_rate based on loan_status\")\n",
    "plt.grid(axis='y')"
   ]
  },
  {
   "cell_type": "code",
   "execution_count": 50,
   "metadata": {},
   "outputs": [
    {
     "data": {
      "text/html": [
       "<div>\n",
       "<style scoped>\n",
       "    .dataframe tbody tr th:only-of-type {\n",
       "        vertical-align: middle;\n",
       "    }\n",
       "\n",
       "    .dataframe tbody tr th {\n",
       "        vertical-align: top;\n",
       "    }\n",
       "\n",
       "    .dataframe thead th {\n",
       "        text-align: right;\n",
       "    }\n",
       "</style>\n",
       "<table border=\"1\" class=\"dataframe\">\n",
       "  <thead>\n",
       "    <tr style=\"text-align: right;\">\n",
       "      <th></th>\n",
       "      <th>count</th>\n",
       "      <th>mean</th>\n",
       "      <th>std</th>\n",
       "      <th>min</th>\n",
       "      <th>25%</th>\n",
       "      <th>50%</th>\n",
       "      <th>75%</th>\n",
       "      <th>max</th>\n",
       "    </tr>\n",
       "    <tr>\n",
       "      <th>loan_status</th>\n",
       "      <th></th>\n",
       "      <th></th>\n",
       "      <th></th>\n",
       "      <th></th>\n",
       "      <th></th>\n",
       "      <th></th>\n",
       "      <th></th>\n",
       "      <th></th>\n",
       "    </tr>\n",
       "  </thead>\n",
       "  <tbody>\n",
       "    <tr>\n",
       "      <th>Charged Off</th>\n",
       "      <td>6.0</td>\n",
       "      <td>12.873333</td>\n",
       "      <td>5.169324</td>\n",
       "      <td>6.72</td>\n",
       "      <td>8.575</td>\n",
       "      <td>13.220</td>\n",
       "      <td>16.8225</td>\n",
       "      <td>19.03</td>\n",
       "    </tr>\n",
       "    <tr>\n",
       "      <th>Current</th>\n",
       "      <td>8585.0</td>\n",
       "      <td>12.288106</td>\n",
       "      <td>4.928696</td>\n",
       "      <td>5.31</td>\n",
       "      <td>7.970</td>\n",
       "      <td>11.980</td>\n",
       "      <td>15.0500</td>\n",
       "      <td>30.79</td>\n",
       "    </tr>\n",
       "    <tr>\n",
       "      <th>Fully Paid</th>\n",
       "      <td>419.0</td>\n",
       "      <td>13.440000</td>\n",
       "      <td>5.548673</td>\n",
       "      <td>5.31</td>\n",
       "      <td>9.440</td>\n",
       "      <td>12.620</td>\n",
       "      <td>16.0200</td>\n",
       "      <td>30.79</td>\n",
       "    </tr>\n",
       "    <tr>\n",
       "      <th>In Grace Period</th>\n",
       "      <td>62.0</td>\n",
       "      <td>15.550000</td>\n",
       "      <td>5.838940</td>\n",
       "      <td>6.71</td>\n",
       "      <td>10.910</td>\n",
       "      <td>14.560</td>\n",
       "      <td>19.7575</td>\n",
       "      <td>26.77</td>\n",
       "    </tr>\n",
       "    <tr>\n",
       "      <th>Late (16-30 days)</th>\n",
       "      <td>36.0</td>\n",
       "      <td>16.948611</td>\n",
       "      <td>6.187187</td>\n",
       "      <td>7.35</td>\n",
       "      <td>12.455</td>\n",
       "      <td>16.015</td>\n",
       "      <td>20.3625</td>\n",
       "      <td>30.94</td>\n",
       "    </tr>\n",
       "    <tr>\n",
       "      <th>Late (31-120 days)</th>\n",
       "      <td>59.0</td>\n",
       "      <td>16.315254</td>\n",
       "      <td>5.760854</td>\n",
       "      <td>5.31</td>\n",
       "      <td>11.990</td>\n",
       "      <td>16.010</td>\n",
       "      <td>19.0300</td>\n",
       "      <td>30.75</td>\n",
       "    </tr>\n",
       "  </tbody>\n",
       "</table>\n",
       "</div>"
      ],
      "text/plain": [
       "                     count       mean       std   min     25%     50%  \\\n",
       "loan_status                                                             \n",
       "Charged Off            6.0  12.873333  5.169324  6.72   8.575  13.220   \n",
       "Current             8585.0  12.288106  4.928696  5.31   7.970  11.980   \n",
       "Fully Paid           419.0  13.440000  5.548673  5.31   9.440  12.620   \n",
       "In Grace Period       62.0  15.550000  5.838940  6.71  10.910  14.560   \n",
       "Late (16-30 days)     36.0  16.948611  6.187187  7.35  12.455  16.015   \n",
       "Late (31-120 days)    59.0  16.315254  5.760854  5.31  11.990  16.010   \n",
       "\n",
       "                        75%    max  \n",
       "loan_status                         \n",
       "Charged Off         16.8225  19.03  \n",
       "Current             15.0500  30.79  \n",
       "Fully Paid          16.0200  30.79  \n",
       "In Grace Period     19.7575  26.77  \n",
       "Late (16-30 days)   20.3625  30.94  \n",
       "Late (31-120 days)  19.0300  30.75  "
      ]
     },
     "execution_count": 50,
     "metadata": {},
     "output_type": "execute_result"
    }
   ],
   "source": [
    "loans_df.groupby(['loan_status']).interest_rate.describe()"
   ]
  },
  {
   "cell_type": "markdown",
   "metadata": {},
   "source": [
    "#### Mean of Charged Off loans is higher than any other categories in the loan_status. Hence, loan increases with increase in interest rates."
   ]
  },
  {
   "cell_type": "code",
   "execution_count": 52,
   "metadata": {},
   "outputs": [],
   "source": [
    "loans_df['interest_rate_bins'] = pd.cut(x=loans_df['interest_rate'], bins=np.arange(0,25,2.5))"
   ]
  },
  {
   "cell_type": "code",
   "execution_count": 56,
   "metadata": {
    "scrolled": false
   },
   "outputs": [
    {
     "name": "stderr",
     "output_type": "stream",
     "text": [
      "posx and posy should be finite values\n",
      "posx and posy should be finite values\n",
      "posx and posy should be finite values\n",
      "posx and posy should be finite values\n",
      "posx and posy should be finite values\n",
      "posx and posy should be finite values\n"
     ]
    },
    {
     "data": {
      "image/png": "[encoded data removed]",
      "text/plain": [
       "<Figure size 1080x720 with 1 Axes>"
      ]
     },
     "metadata": {
      "needs_background": "light"
     },
     "output_type": "display_data"
    }
   ],
   "source": [
    "g= (loans_df[loans_df['loan_status']=='Fully Paid'].interest_rate_bins.value_counts()*100/loans_df.interest_rate_bins.value_counts())\n",
    "plt.figure(figsize=(15,10))\n",
    "f = sb.barplot(x = g.index, y = g, palette=sb.color_palette('Set2', 16))\n",
    "f.set_title('Rate based on interest rate')\n",
    "show_values_on_bars(f)"
   ]
  },
  {
   "cell_type": "markdown",
   "metadata": {},
   "source": [
    " #### Analysis\n",
    " - 4% and 5% when interest rate is above 12%\n",
    " - This shows that with loan amount as the size of loan increases, risk associated increases resulting in higher interest rates\n",
    " - Interest rate increases as shown above visualization has direct impact on loan being fully paid"
   ]
  },
  {
   "cell_type": "markdown",
   "metadata": {},
   "source": [
    "### Debt-to-Income Analysis"
   ]
  },
  {
   "cell_type": "code",
   "execution_count": 64,
   "metadata": {
    "scrolled": false
   },
   "outputs": [
    {
     "data": {
      "image/png": "[encoded data removed]",
      "text/plain": [
       "<Figure size 1080x720 with 1 Axes>"
      ]
     },
     "metadata": {
      "needs_background": "light"
     },
     "output_type": "display_data"
    }
   ],
   "source": [
    "plt.figure(figsize=(15,10))\n",
    "sb.boxplot(x = 'loan_status', y = 'debt_to_income',data = loans_df)\n",
    "\n",
    "plt.grid()"
   ]
  },
  {
   "cell_type": "code",
   "execution_count": 65,
   "metadata": {},
   "outputs": [
    {
     "data": {
      "text/plain": [
       "count    9167.000000\n",
       "mean       18.996415\n",
       "std        14.198557\n",
       "min         0.000000\n",
       "25%        11.030000\n",
       "50%        17.440000\n",
       "75%        24.760000\n",
       "max       469.090000\n",
       "Name: debt_to_income, dtype: float64"
      ]
     },
     "execution_count": 65,
     "metadata": {},
     "output_type": "execute_result"
    }
   ],
   "source": [
    "loans_df.debt_to_income.describe()"
   ]
  },
  {
   "cell_type": "code",
   "execution_count": 66,
   "metadata": {},
   "outputs": [
    {
     "data": {
      "text/html": [
       "<div>\n",
       "<style scoped>\n",
       "    .dataframe tbody tr th:only-of-type {\n",
       "        vertical-align: middle;\n",
       "    }\n",
       "\n",
       "    .dataframe tbody tr th {\n",
       "        vertical-align: top;\n",
       "    }\n",
       "\n",
       "    .dataframe thead th {\n",
       "        text-align: right;\n",
       "    }\n",
       "</style>\n",
       "<table border=\"1\" class=\"dataframe\">\n",
       "  <thead>\n",
       "    <tr style=\"text-align: right;\">\n",
       "      <th></th>\n",
       "      <th>count</th>\n",
       "      <th>mean</th>\n",
       "      <th>std</th>\n",
       "      <th>min</th>\n",
       "      <th>25%</th>\n",
       "      <th>50%</th>\n",
       "      <th>75%</th>\n",
       "      <th>max</th>\n",
       "    </tr>\n",
       "    <tr>\n",
       "      <th>loan_status</th>\n",
       "      <th></th>\n",
       "      <th></th>\n",
       "      <th></th>\n",
       "      <th></th>\n",
       "      <th></th>\n",
       "      <th></th>\n",
       "      <th></th>\n",
       "      <th></th>\n",
       "    </tr>\n",
       "  </thead>\n",
       "  <tbody>\n",
       "    <tr>\n",
       "      <th>Charged Off</th>\n",
       "      <td>6.0</td>\n",
       "      <td>19.713333</td>\n",
       "      <td>11.687319</td>\n",
       "      <td>3.82</td>\n",
       "      <td>12.0225</td>\n",
       "      <td>20.635</td>\n",
       "      <td>27.1475</td>\n",
       "      <td>34.72</td>\n",
       "    </tr>\n",
       "    <tr>\n",
       "      <th>Current</th>\n",
       "      <td>8585.0</td>\n",
       "      <td>19.097503</td>\n",
       "      <td>14.284282</td>\n",
       "      <td>0.00</td>\n",
       "      <td>11.1200</td>\n",
       "      <td>17.510</td>\n",
       "      <td>24.8300</td>\n",
       "      <td>469.09</td>\n",
       "    </tr>\n",
       "    <tr>\n",
       "      <th>Fully Paid</th>\n",
       "      <td>419.0</td>\n",
       "      <td>17.336730</td>\n",
       "      <td>13.457807</td>\n",
       "      <td>0.00</td>\n",
       "      <td>9.8950</td>\n",
       "      <td>16.110</td>\n",
       "      <td>23.0150</td>\n",
       "      <td>209.10</td>\n",
       "    </tr>\n",
       "    <tr>\n",
       "      <th>In Grace Period</th>\n",
       "      <td>62.0</td>\n",
       "      <td>19.772742</td>\n",
       "      <td>11.164906</td>\n",
       "      <td>0.35</td>\n",
       "      <td>12.7100</td>\n",
       "      <td>17.670</td>\n",
       "      <td>28.2850</td>\n",
       "      <td>44.70</td>\n",
       "    </tr>\n",
       "    <tr>\n",
       "      <th>Late (16-30 days)</th>\n",
       "      <td>36.0</td>\n",
       "      <td>17.699444</td>\n",
       "      <td>10.256529</td>\n",
       "      <td>0.86</td>\n",
       "      <td>8.2900</td>\n",
       "      <td>17.040</td>\n",
       "      <td>25.8475</td>\n",
       "      <td>41.51</td>\n",
       "    </tr>\n",
       "    <tr>\n",
       "      <th>Late (31-120 days)</th>\n",
       "      <td>59.0</td>\n",
       "      <td>15.976441</td>\n",
       "      <td>10.840740</td>\n",
       "      <td>0.00</td>\n",
       "      <td>6.1600</td>\n",
       "      <td>15.670</td>\n",
       "      <td>24.6500</td>\n",
       "      <td>36.24</td>\n",
       "    </tr>\n",
       "  </tbody>\n",
       "</table>\n",
       "</div>"
      ],
      "text/plain": [
       "                     count       mean        std   min      25%     50%  \\\n",
       "loan_status                                                               \n",
       "Charged Off            6.0  19.713333  11.687319  3.82  12.0225  20.635   \n",
       "Current             8585.0  19.097503  14.284282  0.00  11.1200  17.510   \n",
       "Fully Paid           419.0  17.336730  13.457807  0.00   9.8950  16.110   \n",
       "In Grace Period       62.0  19.772742  11.164906  0.35  12.7100  17.670   \n",
       "Late (16-30 days)     36.0  17.699444  10.256529  0.86   8.2900  17.040   \n",
       "Late (31-120 days)    59.0  15.976441  10.840740  0.00   6.1600  15.670   \n",
       "\n",
       "                        75%     max  \n",
       "loan_status                          \n",
       "Charged Off         27.1475   34.72  \n",
       "Current             24.8300  469.09  \n",
       "Fully Paid          23.0150  209.10  \n",
       "In Grace Period     28.2850   44.70  \n",
       "Late (16-30 days)   25.8475   41.51  \n",
       "Late (31-120 days)  24.6500   36.24  "
      ]
     },
     "execution_count": 66,
     "metadata": {},
     "output_type": "execute_result"
    }
   ],
   "source": [
    "loans_df.groupby(['loan_status']).debt_to_income.describe()"
   ]
  },
  {
   "cell_type": "code",
   "execution_count": 67,
   "metadata": {},
   "outputs": [],
   "source": [
    "loans_df['dti_bucket'] = pd.cut(x = loans_df.debt_to_income, bins=np.arange(0,30,5))"
   ]
  },
  {
   "cell_type": "code",
   "execution_count": 68,
   "metadata": {
    "scrolled": false
   },
   "outputs": [
    {
     "data": {
      "image/png": "[encoded data removed]",
      "text/plain": [
       "<Figure size 1080x720 with 1 Axes>"
      ]
     },
     "metadata": {
      "needs_background": "light"
     },
     "output_type": "display_data"
    }
   ],
   "source": [
    "g= (loans_df[loans_df['loan_status']=='Fully Paid'].dti_bucket.value_counts()*100/loans_df.dti_bucket.value_counts())\n",
    "plt.figure(figsize=(15,10))\n",
    "f = sb.barplot(x = g.index,y = g,palette=sb.color_palette('Set2', 16))\n",
    "f.set_title('Rate based on DTI Ratio')\n",
    "show_values_on_bars(f)"
   ]
  },
  {
   "cell_type": "markdown",
   "metadata": {},
   "source": [
    "#### Obersvations on Debt_to_Income Analysis\n",
    "\n",
    "1. It is clear that with increasing dti the interest rate decreases.\n",
    "2. High DTI ratio can signal that an individual has too much debt for the amount of income earned each month which explain the reason for high interest rate as shown in the above visualization."
   ]
  },
  {
   "cell_type": "code",
   "execution_count": 73,
   "metadata": {},
   "outputs": [
    {
     "data": {
      "image/png": "[encoded data removed]",
      "text/plain": [
       "<Figure size 1440x1440 with 9 Axes>"
      ]
     },
     "metadata": {
      "needs_background": "light"
     },
     "output_type": "display_data"
    }
   ],
   "source": [
    "f,axes = plt.subplots(3,3,figsize=(20,20))\n",
    "#Subplot - 1 Grade\n",
    "plt.subplot(3,3,1)\n",
    "g= (loans_df.groupby(['grade']).loan_amount.count()*100/len(loans_df))\n",
    "f = sb.barplot(x = g.index,y = g,palette=sb.color_palette('husl', 16))\n",
    "f.set_title('Loan distribution based on Grade')\n",
    "show_values_on_bars(f)\n",
    "\n",
    "#Subplot - 2 term\n",
    "plt.subplot(3,3,2)\n",
    "g= (loans_df.groupby(['term']).loan_amount.count()*100/len(loans_df))\n",
    "f = sb.barplot(x = g.index,y = g,palette=sb.color_palette('husl', 16))\n",
    "f.set_title('Loan distribution based on Term')\n",
    "show_values_on_bars(f)\n",
    "\n",
    "#Subplot - 3 emp_length\n",
    "plt.subplot(3,3,3)\n",
    "g= (loans_df.groupby(['emp_length']).loan_amount.count()*100/len(loans_df))\n",
    "f = sb.barplot(x = g.index,y = g,palette=sb.color_palette('husl', 16))\n",
    "f.set_title('Loan distribution based on Employee Length')\n",
    "show_values_on_bars(f)\n",
    "\n",
    "#Subplot - 4 homeownership\n",
    "plt.subplot(3,3,4)\n",
    "g= (loans_df.groupby(['homeownership']).loan_amount.count()*100/len(loans_df))\n",
    "f = sb.barplot(x = g.index,y = g,palette=sb.color_palette('husl', 16))\n",
    "f.set_title('Loan distribution based on Home Ownership')\n",
    "show_values_on_bars(f)\n",
    "\n",
    "#Subplot - 5 Verified_income\n",
    "plt.subplot(3,3,5)\n",
    "g= (loans_df.groupby(['verified_income']).loan_amount.count()*100/len(loans_df))\n",
    "f = sb.barplot(x = g.index,y = g,palette=sb.color_palette('husl', 16))\n",
    "f.set_title('Loan distribution based on Verification Status')\n",
    "show_values_on_bars(f)\n",
    "\n",
    "#Subplot - 6 Number of derogatory public records\n",
    "plt.subplot(3,3,6)\n",
    "g= (loans_df.groupby(['num_historical_failed_to_pay']).loan_amount.count()*100/len(loans_df))\n",
    "f = sb.barplot(x = g.index,y = g,palette=sb.color_palette('husl', 16))\n",
    "f.set_title('Loan distribution based on Number of derogatory public records')\n",
    "show_values_on_bars(f)\n",
    "\n",
    "\n",
    "#Subplot - 7 public records bankruptcies\n",
    "plt.subplot(3,3,7)\n",
    "g= (loans_df.groupby(['public_record_bankrupt']).loan_amount.count()*100/len(loans_df))\n",
    "f = sb.barplot(x = g.index,y = g,palette=sb.color_palette('husl', 16))\n",
    "f.set_title('Loan distribution based on public record bankruptcies')\n",
    "show_values_on_bars(f)\n",
    "\n",
    "#Subplot - 8 delinq_2q\n",
    "plt.subplot(3,3,8)\n",
    "g= (loans_df.groupby(['delinq_2y']).loan_amount.count()*100/len(loans_df))\n",
    "f = sb.barplot(x = g.index,y = g,palette=sb.color_palette('husl', 16))\n",
    "f.set_title('Loan distribution based on Delinquencies in the last 2 years')\n",
    "show_values_on_bars(f)\n",
    "\n",
    "\n",
    "#Subplot - 9 loan purpose\n",
    "plt.subplot(3,3,9)\n",
    "g= (loans_df.groupby(['loan_purpose']).loan_amount.count()*100/len(loans_df))\n",
    "f = sb.barplot(x = g.index,y = g,palette=sb.color_palette('husl', 16))\n",
    "f.set_title('Loan distribution based on Purpose')\n",
    "f.set_xticklabels(labels = g.index,rotation=90)\n",
    "show_values_on_bars(f)"
   ]
  },
  {
   "cell_type": "markdown",
   "metadata": {},
   "source": [
    "### Obersevations from the above plots\n",
    "\n",
    "1. Most of the loans are based on higher grades loans such as A,B,C.\n",
    "2. 69% length of loans are given in 36 months.\n",
    "3. Employees with 10 years of experience take more than 30% of loans.\n",
    "4. People with rent and mortgages takes up most of the loans.\n",
    "5. Majority of loans is given to verified income sources.\n",
    "6. Loans for public record bankruptcies, Delinquiencies in past 2 years and delegatory public records have mostly 0 loans.\n",
    "7. Loan is mostly given to debt_consolidation category when compared to other category loans."
   ]
  },
  {
   "cell_type": "markdown",
   "metadata": {},
   "source": [
    "### Feature Importance"
   ]
  },
  {
   "cell_type": "code",
   "execution_count": 74,
   "metadata": {
    "scrolled": false
   },
   "outputs": [
    {
     "data": {
      "text/plain": [
       "Index(['emp_title', 'emp_length', 'state', 'homeownership', 'annual_income',\n",
       "       'verified_income', 'debt_to_income', 'delinq_2y',\n",
       "       'earliest_credit_line', 'inquiries_last_12m', 'total_credit_lines',\n",
       "       'open_credit_lines', 'total_credit_limit', 'total_credit_utilized',\n",
       "       'num_collections_last_12m', 'num_historical_failed_to_pay',\n",
       "       'current_accounts_delinq', 'total_collection_amount_ever',\n",
       "       'current_installment_accounts', 'accounts_opened_24m',\n",
       "       'months_since_last_credit_inquiry', 'num_satisfactory_accounts',\n",
       "       'num_accounts_30d_past_due', 'num_active_debit_accounts',\n",
       "       'total_debit_limit', 'num_total_cc_accounts', 'num_open_cc_accounts',\n",
       "       'num_cc_carrying_balance', 'num_mort_accounts',\n",
       "       'account_never_delinq_percent', 'tax_liens', 'public_record_bankrupt',\n",
       "       'loan_purpose', 'application_type', 'loan_amount', 'term',\n",
       "       'interest_rate', 'installment', 'grade', 'sub_grade', 'loan_status',\n",
       "       'initial_listing_status', 'disbursement_method', 'balance',\n",
       "       'paid_total', 'paid_principal', 'paid_interest', 'paid_late_fees',\n",
       "       'issue_year', 'loan_amount_bins', 'interest_rate_bins', 'dti_bucket'],\n",
       "      dtype='object')"
      ]
     },
     "execution_count": 74,
     "metadata": {},
     "output_type": "execute_result"
    }
   ],
   "source": [
    "loans_df.columns"
   ]
  },
  {
   "cell_type": "code",
   "execution_count": 75,
   "metadata": {
    "scrolled": true
   },
   "outputs": [
    {
     "data": {
      "text/plain": [
       "emp_title                                  object\n",
       "emp_length                                float64\n",
       "state                                      object\n",
       "homeownership                              object\n",
       "annual_income                             float64\n",
       "verified_income                            object\n",
       "debt_to_income                            float64\n",
       "delinq_2y                                   int64\n",
       "earliest_credit_line                        int64\n",
       "inquiries_last_12m                          int64\n",
       "total_credit_lines                          int64\n",
       "open_credit_lines                           int64\n",
       "total_credit_limit                          int64\n",
       "total_credit_utilized                       int64\n",
       "num_collections_last_12m                    int64\n",
       "num_historical_failed_to_pay                int64\n",
       "current_accounts_delinq                     int64\n",
       "total_collection_amount_ever                int64\n",
       "current_installment_accounts                int64\n",
       "accounts_opened_24m                         int64\n",
       "months_since_last_credit_inquiry          float64\n",
       "num_satisfactory_accounts                   int64\n",
       "num_accounts_30d_past_due                   int64\n",
       "num_active_debit_accounts                   int64\n",
       "total_debit_limit                           int64\n",
       "num_total_cc_accounts                       int64\n",
       "num_open_cc_accounts                        int64\n",
       "num_cc_carrying_balance                     int64\n",
       "num_mort_accounts                           int64\n",
       "account_never_delinq_percent              float64\n",
       "tax_liens                                   int64\n",
       "public_record_bankrupt                      int64\n",
       "loan_purpose                               object\n",
       "application_type                           object\n",
       "loan_amount                                 int64\n",
       "term                                        int64\n",
       "interest_rate                             float64\n",
       "installment                               float64\n",
       "grade                                      object\n",
       "sub_grade                                  object\n",
       "loan_status                                object\n",
       "initial_listing_status                     object\n",
       "disbursement_method                        object\n",
       "balance                                   float64\n",
       "paid_total                                float64\n",
       "paid_principal                            float64\n",
       "paid_interest                             float64\n",
       "paid_late_fees                            float64\n",
       "issue_year                          period[A-DEC]\n",
       "loan_amount_bins                         category\n",
       "interest_rate_bins                       category\n",
       "dti_bucket                               category\n",
       "dtype: object"
      ]
     },
     "execution_count": 75,
     "metadata": {},
     "output_type": "execute_result"
    }
   ],
   "source": [
    "loans_df.dtypes"
   ]
  },
  {
   "cell_type": "code",
   "execution_count": 76,
   "metadata": {},
   "outputs": [],
   "source": [
    "loans_df = loans_df.drop(['emp_title','state','grade', 'sub_grade'], axis=1)"
   ]
  },
  {
   "cell_type": "code",
   "execution_count": 78,
   "metadata": {},
   "outputs": [],
   "source": [
    "loans_df = loans_df.drop(['loan_amount_bins','interest_rate_bins','dti_bucket'], axis=1)"
   ]
  },
  {
   "cell_type": "code",
   "execution_count": 79,
   "metadata": {},
   "outputs": [
    {
     "data": {
      "text/plain": [
       "(9167, 45)"
      ]
     },
     "execution_count": 79,
     "metadata": {},
     "output_type": "execute_result"
    }
   ],
   "source": [
    "loans_df.shape"
   ]
  },
  {
   "cell_type": "code",
   "execution_count": 80,
   "metadata": {},
   "outputs": [
    {
     "data": {
      "text/plain": [
       "2018    9167\n",
       "Freq: A-DEC, Name: issue_year, dtype: int64"
      ]
     },
     "execution_count": 80,
     "metadata": {},
     "output_type": "execute_result"
    }
   ],
   "source": [
    "loans_df['issue_year'].value_counts()"
   ]
  },
  {
   "cell_type": "code",
   "execution_count": 86,
   "metadata": {},
   "outputs": [
    {
     "data": {
      "text/plain": [
       "emp_length                                float64\n",
       "homeownership                              object\n",
       "annual_income                             float64\n",
       "verified_income                            object\n",
       "debt_to_income                            float64\n",
       "delinq_2y                                   int64\n",
       "earliest_credit_line                        int64\n",
       "inquiries_last_12m                          int64\n",
       "total_credit_lines                          int64\n",
       "open_credit_lines                           int64\n",
       "total_credit_limit                          int64\n",
       "total_credit_utilized                       int64\n",
       "num_collections_last_12m                    int64\n",
       "num_historical_failed_to_pay                int64\n",
       "current_accounts_delinq                     int64\n",
       "total_collection_amount_ever                int64\n",
       "current_installment_accounts                int64\n",
       "accounts_opened_24m                         int64\n",
       "months_since_last_credit_inquiry          float64\n",
       "num_satisfactory_accounts                   int64\n",
       "num_accounts_30d_past_due                   int64\n",
       "num_active_debit_accounts                   int64\n",
       "total_debit_limit                           int64\n",
       "num_total_cc_accounts                       int64\n",
       "num_open_cc_accounts                        int64\n",
       "num_cc_carrying_balance                     int64\n",
       "num_mort_accounts                           int64\n",
       "account_never_delinq_percent              float64\n",
       "tax_liens                                   int64\n",
       "public_record_bankrupt                      int64\n",
       "loan_purpose                               object\n",
       "application_type                            int32\n",
       "loan_amount                                 int64\n",
       "term                                        int64\n",
       "interest_rate                             float64\n",
       "installment                               float64\n",
       "loan_status                                object\n",
       "initial_listing_status                      int32\n",
       "disbursement_method                         int32\n",
       "balance                                   float64\n",
       "paid_total                                float64\n",
       "paid_principal                            float64\n",
       "paid_interest                             float64\n",
       "paid_late_fees                            float64\n",
       "issue_year                          period[A-DEC]\n",
       "dtype: object"
      ]
     },
     "execution_count": 86,
     "metadata": {},
     "output_type": "execute_result"
    }
   ],
   "source": [
    "loans_df.dtypes"
   ]
  },
  {
   "cell_type": "markdown",
   "metadata": {},
   "source": [
    "#### Let's convert the categorical variables to numerical variables."
   ]
  },
  {
   "cell_type": "code",
   "execution_count": 88,
   "metadata": {
    "scrolled": true
   },
   "outputs": [
    {
     "name": "stderr",
     "output_type": "stream",
     "text": [
      "C:\\Users\\syedk\\Anaconda3\\lib\\site-packages\\ipykernel_launcher.py:14: FutureWarning: convert_objects is deprecated.  To re-infer data dtypes for object columns, use DataFrame.infer_objects()\n",
      "For all other conversions use the data-type specific converters pd.to_datetime, pd.to_timedelta and pd.to_numeric.\n",
      "  \n"
     ]
    },
    {
     "data": {
      "text/html": [
       "<div>\n",
       "<style scoped>\n",
       "    .dataframe tbody tr th:only-of-type {\n",
       "        vertical-align: middle;\n",
       "    }\n",
       "\n",
       "    .dataframe tbody tr th {\n",
       "        vertical-align: top;\n",
       "    }\n",
       "\n",
       "    .dataframe thead th {\n",
       "        text-align: right;\n",
       "    }\n",
       "</style>\n",
       "<table border=\"1\" class=\"dataframe\">\n",
       "  <thead>\n",
       "    <tr style=\"text-align: right;\">\n",
       "      <th></th>\n",
       "      <th>emp_length</th>\n",
       "      <th>homeownership</th>\n",
       "      <th>annual_income</th>\n",
       "      <th>verified_income</th>\n",
       "      <th>debt_to_income</th>\n",
       "      <th>delinq_2y</th>\n",
       "      <th>earliest_credit_line</th>\n",
       "      <th>inquiries_last_12m</th>\n",
       "      <th>total_credit_lines</th>\n",
       "      <th>open_credit_lines</th>\n",
       "      <th>...</th>\n",
       "      <th>installment</th>\n",
       "      <th>loan_status</th>\n",
       "      <th>initial_listing_status</th>\n",
       "      <th>disbursement_method</th>\n",
       "      <th>balance</th>\n",
       "      <th>paid_total</th>\n",
       "      <th>paid_principal</th>\n",
       "      <th>paid_interest</th>\n",
       "      <th>paid_late_fees</th>\n",
       "      <th>issue_year</th>\n",
       "    </tr>\n",
       "  </thead>\n",
       "  <tbody>\n",
       "    <tr>\n",
       "      <th>0</th>\n",
       "      <td>3.0</td>\n",
       "      <td>0</td>\n",
       "      <td>90000.0</td>\n",
       "      <td>2</td>\n",
       "      <td>18.01</td>\n",
       "      <td>0</td>\n",
       "      <td>2001</td>\n",
       "      <td>6</td>\n",
       "      <td>28</td>\n",
       "      <td>10</td>\n",
       "      <td>...</td>\n",
       "      <td>652.53</td>\n",
       "      <td>1</td>\n",
       "      <td>1</td>\n",
       "      <td>0</td>\n",
       "      <td>27015.86</td>\n",
       "      <td>1999.33</td>\n",
       "      <td>984.14</td>\n",
       "      <td>1015.19</td>\n",
       "      <td>0.0</td>\n",
       "      <td>2018</td>\n",
       "    </tr>\n",
       "    <tr>\n",
       "      <th>1</th>\n",
       "      <td>10.0</td>\n",
       "      <td>2</td>\n",
       "      <td>40000.0</td>\n",
       "      <td>0</td>\n",
       "      <td>5.04</td>\n",
       "      <td>0</td>\n",
       "      <td>1996</td>\n",
       "      <td>1</td>\n",
       "      <td>30</td>\n",
       "      <td>14</td>\n",
       "      <td>...</td>\n",
       "      <td>167.54</td>\n",
       "      <td>1</td>\n",
       "      <td>1</td>\n",
       "      <td>0</td>\n",
       "      <td>4651.37</td>\n",
       "      <td>499.12</td>\n",
       "      <td>348.63</td>\n",
       "      <td>150.49</td>\n",
       "      <td>0.0</td>\n",
       "      <td>2018</td>\n",
       "    </tr>\n",
       "    <tr>\n",
       "      <th>2</th>\n",
       "      <td>3.0</td>\n",
       "      <td>2</td>\n",
       "      <td>40000.0</td>\n",
       "      <td>1</td>\n",
       "      <td>21.15</td>\n",
       "      <td>0</td>\n",
       "      <td>2006</td>\n",
       "      <td>4</td>\n",
       "      <td>31</td>\n",
       "      <td>10</td>\n",
       "      <td>...</td>\n",
       "      <td>71.40</td>\n",
       "      <td>1</td>\n",
       "      <td>0</td>\n",
       "      <td>0</td>\n",
       "      <td>1824.63</td>\n",
       "      <td>281.80</td>\n",
       "      <td>175.37</td>\n",
       "      <td>106.43</td>\n",
       "      <td>0.0</td>\n",
       "      <td>2018</td>\n",
       "    </tr>\n",
       "    <tr>\n",
       "      <th>3</th>\n",
       "      <td>1.0</td>\n",
       "      <td>2</td>\n",
       "      <td>30000.0</td>\n",
       "      <td>0</td>\n",
       "      <td>10.16</td>\n",
       "      <td>0</td>\n",
       "      <td>2007</td>\n",
       "      <td>0</td>\n",
       "      <td>4</td>\n",
       "      <td>4</td>\n",
       "      <td>...</td>\n",
       "      <td>664.19</td>\n",
       "      <td>1</td>\n",
       "      <td>1</td>\n",
       "      <td>0</td>\n",
       "      <td>18853.26</td>\n",
       "      <td>3312.89</td>\n",
       "      <td>2746.74</td>\n",
       "      <td>566.15</td>\n",
       "      <td>0.0</td>\n",
       "      <td>2018</td>\n",
       "    </tr>\n",
       "    <tr>\n",
       "      <th>4</th>\n",
       "      <td>10.0</td>\n",
       "      <td>2</td>\n",
       "      <td>35000.0</td>\n",
       "      <td>2</td>\n",
       "      <td>57.96</td>\n",
       "      <td>0</td>\n",
       "      <td>2008</td>\n",
       "      <td>7</td>\n",
       "      <td>22</td>\n",
       "      <td>16</td>\n",
       "      <td>...</td>\n",
       "      <td>786.87</td>\n",
       "      <td>1</td>\n",
       "      <td>1</td>\n",
       "      <td>0</td>\n",
       "      <td>21430.15</td>\n",
       "      <td>2324.65</td>\n",
       "      <td>1569.85</td>\n",
       "      <td>754.80</td>\n",
       "      <td>0.0</td>\n",
       "      <td>2018</td>\n",
       "    </tr>\n",
       "  </tbody>\n",
       "</table>\n",
       "<p>5 rows × 45 columns</p>\n",
       "</div>"
      ],
      "text/plain": [
       "   emp_length  homeownership  annual_income  verified_income  debt_to_income  \\\n",
       "0         3.0              0        90000.0                2           18.01   \n",
       "1        10.0              2        40000.0                0            5.04   \n",
       "2         3.0              2        40000.0                1           21.15   \n",
       "3         1.0              2        30000.0                0           10.16   \n",
       "4        10.0              2        35000.0                2           57.96   \n",
       "\n",
       "   delinq_2y  earliest_credit_line  inquiries_last_12m  total_credit_lines  \\\n",
       "0          0                  2001                   6                  28   \n",
       "1          0                  1996                   1                  30   \n",
       "2          0                  2006                   4                  31   \n",
       "3          0                  2007                   0                   4   \n",
       "4          0                  2008                   7                  22   \n",
       "\n",
       "   open_credit_lines  ...  installment  loan_status  initial_listing_status  \\\n",
       "0                 10  ...       652.53            1                       1   \n",
       "1                 14  ...       167.54            1                       1   \n",
       "2                 10  ...        71.40            1                       0   \n",
       "3                  4  ...       664.19            1                       1   \n",
       "4                 16  ...       786.87            1                       1   \n",
       "\n",
       "   disbursement_method   balance  paid_total  paid_principal  paid_interest  \\\n",
       "0                    0  27015.86     1999.33          984.14        1015.19   \n",
       "1                    0   4651.37      499.12          348.63         150.49   \n",
       "2                    0   1824.63      281.80          175.37         106.43   \n",
       "3                    0  18853.26     3312.89         2746.74         566.15   \n",
       "4                    0  21430.15     2324.65         1569.85         754.80   \n",
       "\n",
       "   paid_late_fees  issue_year  \n",
       "0             0.0        2018  \n",
       "1             0.0        2018  \n",
       "2             0.0        2018  \n",
       "3             0.0        2018  \n",
       "4             0.0        2018  \n",
       "\n",
       "[5 rows x 45 columns]"
      ]
     },
     "execution_count": 88,
     "metadata": {},
     "output_type": "execute_result"
    }
   ],
   "source": [
    "# Convert the categorical variables to numerical variables.\n",
    "\n",
    "from sklearn.preprocessing import LabelEncoder \n",
    "le=LabelEncoder()\n",
    "loans_df.homeownership = le.fit_transform(loans_df.homeownership.values)\n",
    "loans_df.verified_income = le.fit_transform(loans_df.verified_income.values)\n",
    "loans_df.loan_purpose = le.fit_transform(loans_df.loan_purpose.values)\n",
    "loans_df.loan_status = le.fit_transform(loans_df.loan_status.values)\n",
    "loans_df.application_type = le.fit_transform(loans_df.application_type.values)\n",
    "loans_df.initial_listing_status = le.fit_transform(loans_df.initial_listing_status.values) \n",
    "loans_df.disbursement_method = le.fit_transform(loans_df.disbursement_method.values) \n",
    "\n",
    "#Finally let's be sure we convert all fields to numeric\n",
    "loans_df=loans_df.convert_objects(convert_numeric=True)\n",
    "loans_df.head(5)"
   ]
  },
  {
   "cell_type": "code",
   "execution_count": 89,
   "metadata": {},
   "outputs": [
    {
     "data": {
      "text/plain": [
       "(9167, 45)"
      ]
     },
     "execution_count": 89,
     "metadata": {},
     "output_type": "execute_result"
    }
   ],
   "source": [
    "loans_df.shape"
   ]
  },
  {
   "cell_type": "markdown",
   "metadata": {},
   "source": [
    "Let's verify the data types in our dataset"
   ]
  },
  {
   "cell_type": "code",
   "execution_count": 90,
   "metadata": {},
   "outputs": [
    {
     "data": {
      "text/plain": [
       "emp_length                                float64\n",
       "homeownership                               int32\n",
       "annual_income                             float64\n",
       "verified_income                             int32\n",
       "debt_to_income                            float64\n",
       "delinq_2y                                   int64\n",
       "earliest_credit_line                        int64\n",
       "inquiries_last_12m                          int64\n",
       "total_credit_lines                          int64\n",
       "open_credit_lines                           int64\n",
       "total_credit_limit                          int64\n",
       "total_credit_utilized                       int64\n",
       "num_collections_last_12m                    int64\n",
       "num_historical_failed_to_pay                int64\n",
       "current_accounts_delinq                     int64\n",
       "total_collection_amount_ever                int64\n",
       "current_installment_accounts                int64\n",
       "accounts_opened_24m                         int64\n",
       "months_since_last_credit_inquiry          float64\n",
       "num_satisfactory_accounts                   int64\n",
       "num_accounts_30d_past_due                   int64\n",
       "num_active_debit_accounts                   int64\n",
       "total_debit_limit                           int64\n",
       "num_total_cc_accounts                       int64\n",
       "num_open_cc_accounts                        int64\n",
       "num_cc_carrying_balance                     int64\n",
       "num_mort_accounts                           int64\n",
       "account_never_delinq_percent              float64\n",
       "tax_liens                                   int64\n",
       "public_record_bankrupt                      int64\n",
       "loan_purpose                                int32\n",
       "application_type                            int64\n",
       "loan_amount                                 int64\n",
       "term                                        int64\n",
       "interest_rate                             float64\n",
       "installment                               float64\n",
       "loan_status                                 int32\n",
       "initial_listing_status                      int64\n",
       "disbursement_method                         int64\n",
       "balance                                   float64\n",
       "paid_total                                float64\n",
       "paid_principal                            float64\n",
       "paid_interest                             float64\n",
       "paid_late_fees                            float64\n",
       "issue_year                          period[A-DEC]\n",
       "dtype: object"
      ]
     },
     "execution_count": 90,
     "metadata": {},
     "output_type": "execute_result"
    }
   ],
   "source": [
    "loans_df.dtypes"
   ]
  },
  {
   "cell_type": "code",
   "execution_count": 83,
   "metadata": {},
   "outputs": [
    {
     "data": {
      "text/plain": [
       "Index(['emp_length', 'homeownership', 'annual_income', 'verified_income',\n",
       "       'debt_to_income', 'delinq_2y', 'earliest_credit_line',\n",
       "       'inquiries_last_12m', 'total_credit_lines', 'open_credit_lines',\n",
       "       'total_credit_limit', 'total_credit_utilized',\n",
       "       'num_collections_last_12m', 'num_historical_failed_to_pay',\n",
       "       'current_accounts_delinq', 'total_collection_amount_ever',\n",
       "       'current_installment_accounts', 'accounts_opened_24m',\n",
       "       'months_since_last_credit_inquiry', 'num_satisfactory_accounts',\n",
       "       'num_accounts_30d_past_due', 'num_active_debit_accounts',\n",
       "       'total_debit_limit', 'num_total_cc_accounts', 'num_open_cc_accounts',\n",
       "       'num_cc_carrying_balance', 'num_mort_accounts',\n",
       "       'account_never_delinq_percent', 'tax_liens', 'public_record_bankrupt',\n",
       "       'loan_purpose', 'application_type', 'loan_amount', 'term',\n",
       "       'interest_rate', 'installment', 'loan_status', 'initial_listing_status',\n",
       "       'disbursement_method', 'balance', 'paid_total', 'paid_principal',\n",
       "       'paid_interest', 'paid_late_fees', 'issue_year'],\n",
       "      dtype='object')"
      ]
     },
     "execution_count": 83,
     "metadata": {},
     "output_type": "execute_result"
    }
   ],
   "source": [
    "loans_df.columns"
   ]
  },
  {
   "cell_type": "code",
   "execution_count": 92,
   "metadata": {},
   "outputs": [],
   "source": [
    "features = ['emp_length', 'homeownership', 'annual_income', 'verified_income',\n",
    "       'debt_to_income', 'delinq_2y', 'earliest_credit_line',\n",
    "       'inquiries_last_12m', 'total_credit_lines', 'open_credit_lines',\n",
    "       'total_credit_limit', 'total_credit_utilized',\n",
    "       'num_collections_last_12m'\n",
    "            , 'num_historical_failed_to_pay',\n",
    "       'current_accounts_delinq', 'total_collection_amount_ever',\n",
    "       'current_installment_accounts', 'accounts_opened_24m',\n",
    "       'months_since_last_credit_inquiry', 'num_satisfactory_accounts',\n",
    "       'num_accounts_30d_past_due', 'num_active_debit_accounts',\n",
    "       'total_debit_limit', 'num_total_cc_accounts', 'num_open_cc_accounts',\n",
    "       'num_cc_carrying_balance', 'num_mort_accounts',\n",
    "       'account_never_delinq_percent', 'tax_liens', 'public_record_bankrupt',\n",
    "       'loan_purpose', 'application_type', 'loan_amount', 'term',\n",
    "       'installment', 'loan_status', 'initial_listing_status',\n",
    "       'disbursement_method', 'balance', 'paid_total', 'paid_principal',\n",
    "       'paid_interest', 'paid_late_fees']\n",
    "\n",
    "X = loans_df[features]\n",
    "y = loans_df['interest_rate']"
   ]
  },
  {
   "cell_type": "code",
   "execution_count": 95,
   "metadata": {
    "scrolled": false
   },
   "outputs": [
    {
     "name": "stdout",
     "output_type": "stream",
     "text": [
      "Feature: 0, Score: -0.00500\n",
      "Feature: 1, Score: 0.18544\n",
      "Feature: 2, Score: -0.00000\n",
      "Feature: 3, Score: 0.64591\n",
      "Feature: 4, Score: 0.01796\n",
      "Feature: 5, Score: 0.23073\n",
      "Feature: 6, Score: 0.01323\n",
      "Feature: 7, Score: 0.07352\n",
      "Feature: 8, Score: -0.00310\n",
      "Feature: 9, Score: 0.01995\n",
      "Feature: 10, Score: -0.00000\n",
      "Feature: 11, Score: 0.00000\n",
      "Feature: 12, Score: 0.50683\n",
      "Feature: 13, Score: -0.00300\n",
      "Feature: 14, Score: -1.50548\n",
      "Feature: 15, Score: -0.00000\n",
      "Feature: 16, Score: -0.05047\n",
      "Feature: 17, Score: 0.10263\n",
      "Feature: 18, Score: -0.01348\n",
      "Feature: 19, Score: -0.00639\n",
      "Feature: 20, Score: -1.50548\n",
      "Feature: 21, Score: 0.01529\n",
      "Feature: 22, Score: -0.00002\n",
      "Feature: 23, Score: -0.02272\n",
      "Feature: 24, Score: -0.08824\n",
      "Feature: 25, Score: 0.17709\n",
      "Feature: 26, Score: -0.12246\n",
      "Feature: 27, Score: -0.02912\n",
      "Feature: 28, Score: 0.02831\n",
      "Feature: 29, Score: -0.03130\n",
      "Feature: 30, Score: 0.06171\n",
      "Feature: 31, Score: -0.17549\n",
      "Feature: 32, Score: -0.00087\n",
      "Feature: 33, Score: 0.33561\n",
      "Feature: 34, Score: 0.02829\n",
      "Feature: 35, Score: 1.06193\n",
      "Feature: 36, Score: -1.17505\n",
      "Feature: 37, Score: -1.38188\n",
      "Feature: 38, Score: -0.00015\n",
      "Feature: 39, Score: 4.84566\n",
      "Feature: 40, Score: -4.84577\n",
      "Feature: 41, Score: -4.84073\n",
      "Feature: 42, Score: -4.87121\n"
     ]
    },
    {
     "data": {
      "image/png": "[encoded data removed]",
      "text/plain": [
       "<Figure size 432x288 with 1 Axes>"
      ]
     },
     "metadata": {
      "needs_background": "light"
     },
     "output_type": "display_data"
    }
   ],
   "source": [
    "from sklearn.linear_model import LinearRegression\n",
    "# from sklearn.ensemble import RandomForestClassifier\n",
    "from sklearn.preprocessing import OneHotEncoder, LabelEncoder\n",
    "from matplotlib import pyplot\n",
    "\n",
    "# define the model\n",
    "model = LinearRegression()\n",
    "\n",
    "# fit the model\n",
    "model.fit(X, y)\n",
    "\n",
    "# get importance\n",
    "importance = model.coef_\n",
    "\n",
    "# summarize feature importance\n",
    "for i,v in enumerate(importance):\n",
    "    print('Feature: %0d, Score: %.5f' % (i,v))\n",
    "    \n",
    "# plot feature importance\n",
    "pyplot.bar([x for x in range(len(importance))], importance)\n",
    "pyplot.show()"
   ]
  },
  {
   "cell_type": "code",
   "execution_count": 96,
   "metadata": {},
   "outputs": [
    {
     "name": "stderr",
     "output_type": "stream",
     "text": [
      "C:\\Users\\syedk\\Anaconda3\\lib\\site-packages\\sklearn\\decomposition\\online_lda.py:29: DeprecationWarning: `np.float` is a deprecated alias for the builtin `float`. To silence this warning, use `float` by itself. Doing this will not modify any behavior and is safe. If you specifically wanted the numpy scalar type, use `np.float64` here.\n",
      "Deprecated in NumPy 1.20; for more details and guidance: https://numpy.org/devdocs/release/1.20.0-notes.html#deprecations\n",
      "  EPS = np.finfo(np.float).eps\n"
     ]
    },
    {
     "name": "stdout",
     "output_type": "stream",
     "text": [
      "Feature: 0, Score: 0.00124\n",
      "Feature: 1, Score: 0.00104\n",
      "Feature: 2, Score: 0.00466\n",
      "Feature: 3, Score: 0.00095\n",
      "Feature: 4, Score: 0.00372\n",
      "Feature: 5, Score: 0.00061\n",
      "Feature: 6, Score: 0.00166\n",
      "Feature: 7, Score: 0.00156\n",
      "Feature: 8, Score: 0.00153\n",
      "Feature: 9, Score: 0.00073\n",
      "Feature: 10, Score: 0.00371\n",
      "Feature: 11, Score: 0.00224\n",
      "Feature: 12, Score: 0.00053\n",
      "Feature: 13, Score: 0.00014\n",
      "Feature: 14, Score: 0.00000\n",
      "Feature: 15, Score: 0.00216\n",
      "Feature: 16, Score: 0.00283\n",
      "Feature: 17, Score: 0.00306\n",
      "Feature: 18, Score: 0.00187\n",
      "Feature: 19, Score: 0.00082\n",
      "Feature: 20, Score: 0.00000\n",
      "Feature: 21, Score: 0.00216\n",
      "Feature: 22, Score: 0.06164\n",
      "Feature: 23, Score: 0.00228\n",
      "Feature: 24, Score: 0.00096\n",
      "Feature: 25, Score: 0.00131\n",
      "Feature: 26, Score: 0.00116\n",
      "Feature: 27, Score: 0.00164\n",
      "Feature: 28, Score: 0.00007\n",
      "Feature: 29, Score: 0.00010\n",
      "Feature: 30, Score: 0.00168\n",
      "Feature: 31, Score: 0.00009\n",
      "Feature: 32, Score: 0.01342\n",
      "Feature: 33, Score: 0.03986\n",
      "Feature: 34, Score: 0.00889\n",
      "Feature: 35, Score: 0.01149\n",
      "Feature: 36, Score: 0.00059\n",
      "Feature: 37, Score: 0.00037\n",
      "Feature: 38, Score: 0.04039\n",
      "Feature: 39, Score: 0.00487\n",
      "Feature: 40, Score: 0.33698\n",
      "Feature: 41, Score: 0.43499\n",
      "Feature: 42, Score: 0.00002\n"
     ]
    },
    {
     "data": {
      "image/png": "[encoded data removed]",
      "text/plain": [
       "<Figure size 432x288 with 1 Axes>"
      ]
     },
     "metadata": {
      "needs_background": "light"
     },
     "output_type": "display_data"
    }
   ],
   "source": [
    "from sklearn.tree import DecisionTreeRegressor\n",
    "from sklearn.preprocessing import OneHotEncoder, LabelEncoder\n",
    "from matplotlib import pyplot\n",
    "\n",
    "# define the model\n",
    "model = DecisionTreeRegressor()\n",
    "\n",
    "# fit the model\n",
    "model.fit(X, y)\n",
    "\n",
    "# get importance\n",
    "importance = model.feature_importances_\n",
    "\n",
    "# summarize feature importance\n",
    "for i,v in enumerate(importance):\n",
    "    print('Feature: %0d, Score: %.5f' % (i,v))\n",
    "    \n",
    "# plot feature importance\n",
    "pyplot.bar([x for x in range(len(importance))], importance)\n",
    "pyplot.show()"
   ]
  },
  {
   "cell_type": "markdown",
   "metadata": {},
   "source": [
    "#### After going through feature selection (from feature selection model), we can select the variables that are important and perform our machine learning model to predict the interest rate.\n"
   ]
  },
  {
   "cell_type": "markdown",
   "metadata": {},
   "source": [
    "## Machine learning models"
   ]
  },
  {
   "cell_type": "code",
   "execution_count": 98,
   "metadata": {
    "scrolled": false
   },
   "outputs": [
    {
     "data": {
      "image/png": "[encoded data removed]",
      "text/plain": [
       "<Figure size 1080x1080 with 2 Axes>"
      ]
     },
     "metadata": {
      "needs_background": "light"
     },
     "output_type": "display_data"
    }
   ],
   "source": [
    "fig, ax = plt.subplots(figsize=(15,15))\n",
    "sb.heatmap(loans_df.corr(), square=True, cmap=\"Blues\");"
   ]
  },
  {
   "cell_type": "markdown",
   "metadata": {},
   "source": [
    "## - Linear Regression For Prediction Of Interest Rate"
   ]
  },
  {
   "cell_type": "code",
   "execution_count": 136,
   "metadata": {},
   "outputs": [],
   "source": [
    "from sklearn.model_selection import train_test_split\n",
    "\n",
    "x = loans_df[['emp_length','loan_amount','annual_income','homeownership', 'debt_to_income', 'num_active_debit_accounts',\n",
    "             'application_type', 'loan_amount', 'term', 'installment', 'loan_status', 'initial_listing_status','balance',\n",
    "              'paid_total','paid_interest', 'paid_late_fees']].values\n",
    "y = loans_df[['interest_rate']].values\n",
    "\n",
    "X_train, X_test, y_train, y_test = train_test_split(X, y, test_size=0.3, random_state=0)"
   ]
  },
  {
   "cell_type": "code",
   "execution_count": 137,
   "metadata": {},
   "outputs": [
    {
     "name": "stdout",
     "output_type": "stream",
     "text": [
      "Number of inputs:  6416\n",
      "--------Linear Regression--------\n",
      "\n",
      "R-SQUARED ERROR:  0.7081554641782999\n",
      "\n",
      "MEAN ABSOLUTE ERROR is:  2.1110687022900763\n",
      "\n",
      "MEAN SQUARED ERROR is:  7.383975172664486\n",
      "\n"
     ]
    }
   ],
   "source": [
    "from sklearn.linear_model import LinearRegression\n",
    "from sklearn import metrics\n",
    "\n",
    "algo = LinearRegression()\n",
    "print (\"Number of inputs: \",len(y_train))\n",
    "model = algo.fit(X_train, y_train)\n",
    "\n",
    "train_pred = model.predict(X_train)\n",
    "y_pred = model.predict(X_test)\n",
    "y_pred=np.round(y_pred,2)\n",
    "\n",
    "print(\"--------Linear Regression--------\")\n",
    "print()\n",
    "\n",
    "# R-SQUARED ERROR\n",
    "print (\"R-SQUARED ERROR: \", metrics.r2_score(y_train, train_pred))\n",
    "print()\n",
    "\n",
    "# MEAN ABSOLUTE ERROR\n",
    "print (\"MEAN ABSOLUTE ERROR is: \", metrics.mean_absolute_error(y_test, y_pred))\n",
    "print()\n",
    "\n",
    "# MEAN SQUARED ERROR\n",
    "print (\"MEAN SQUARED ERROR is: \", metrics.mean_squared_error(y_test, y_pred))\n",
    "print()\n",
    "\n",
    "print\n",
    "errors = []\n",
    "for i,j in zip(y_test, y_pred):\n",
    "    if abs(i-j)<3:\n",
    "        errors.append(abs(i-j))"
   ]
  },
  {
   "cell_type": "code",
   "execution_count": 138,
   "metadata": {},
   "outputs": [
    {
     "name": "stdout",
     "output_type": "stream",
     "text": [
      "Error distribution plot:\n"
     ]
    },
    {
     "data": {
      "text/plain": [
       "<matplotlib.axes._subplots.AxesSubplot at 0x194a5e38898>"
      ]
     },
     "execution_count": 138,
     "metadata": {},
     "output_type": "execute_result"
    },
    {
     "data": {
      "image/png": "[encoded data removed]",
      "text/plain": [
       "<Figure size 288x432 with 1 Axes>"
      ]
     },
     "metadata": {
      "needs_background": "light"
     },
     "output_type": "display_data"
    }
   ],
   "source": [
    "plt.figure(figsize=(4,6))\n",
    "print(\"Error distribution plot:\")\n",
    "sb.violinplot(y=errors, color=\"#4ff2e2\")"
   ]
  },
  {
   "cell_type": "code",
   "execution_count": 139,
   "metadata": {},
   "outputs": [],
   "source": [
    "B= 1-np.mean(errors)/ loans_df.interest_rate.mean()"
   ]
  },
  {
   "cell_type": "code",
   "execution_count": 140,
   "metadata": {
    "scrolled": true
   },
   "outputs": [
    {
     "name": "stdout",
     "output_type": "stream",
     "text": [
      "Accuracy for interest rate prediction is: 88.96504984822451\n"
     ]
    }
   ],
   "source": [
    "print('Accuracy for interest rate prediction is:' ,B*100)"
   ]
  },
  {
   "cell_type": "markdown",
   "metadata": {},
   "source": [
    "## - Gradient Boosting Regressor For Prediction Of Interest Rate"
   ]
  },
  {
   "cell_type": "code",
   "execution_count": 153,
   "metadata": {},
   "outputs": [],
   "source": [
    "from sklearn.model_selection import train_test_split\n",
    "\n",
    "x = loans_df[['emp_length','loan_amount','annual_income','homeownership', 'debt_to_income', 'num_active_debit_accounts',\n",
    "             'application_type', 'loan_amount', 'term', 'installment', 'loan_status', 'initial_listing_status','balance',\n",
    "              'paid_total','paid_interest', 'paid_late_fees']].values\n",
    "y = loans_df[['interest_rate']].values\n",
    "\n",
    "X_train, X_test, y_train, y_test = train_test_split(X, y, test_size=0.3, random_state=0)"
   ]
  },
  {
   "cell_type": "code",
   "execution_count": 154,
   "metadata": {},
   "outputs": [
    {
     "name": "stdout",
     "output_type": "stream",
     "text": [
      "Number of inputs:  6416\n"
     ]
    },
    {
     "name": "stderr",
     "output_type": "stream",
     "text": [
      "A column-vector y was passed when a 1d array was expected. Please change the shape of y to (n_samples, ), for example using ravel().\n",
      "`np.object` is a deprecated alias for the builtin `object`. To silence this warning, use `object` by itself. Doing this will not modify any behavior and is safe. \n",
      "Deprecated in NumPy 1.20; for more details and guidance: https://numpy.org/devdocs/release/1.20.0-notes.html#deprecations\n",
      "`np.bool` is a deprecated alias for the builtin `bool`. To silence this warning, use `bool` by itself. Doing this will not modify any behavior and is safe. If you specifically wanted the numpy scalar type, use `np.bool_` here.\n",
      "Deprecated in NumPy 1.20; for more details and guidance: https://numpy.org/devdocs/release/1.20.0-notes.html#deprecations\n",
      "`np.bool` is a deprecated alias for the builtin `bool`. To silence this warning, use `bool` by itself. Doing this will not modify any behavior and is safe. If you specifically wanted the numpy scalar type, use `np.bool_` here.\n",
      "Deprecated in NumPy 1.20; for more details and guidance: https://numpy.org/devdocs/release/1.20.0-notes.html#deprecations\n",
      "`np.bool` is a deprecated alias for the builtin `bool`. To silence this warning, use `bool` by itself. Doing this will not modify any behavior and is safe. If you specifically wanted the numpy scalar type, use `np.bool_` here.\n",
      "Deprecated in NumPy 1.20; for more details and guidance: https://numpy.org/devdocs/release/1.20.0-notes.html#deprecations\n",
      "`np.bool` is a deprecated alias for the builtin `bool`. To silence this warning, use `bool` by itself. Doing this will not modify any behavior and is safe. If you specifically wanted the numpy scalar type, use `np.bool_` here.\n",
      "Deprecated in NumPy 1.20; for more details and guidance: https://numpy.org/devdocs/release/1.20.0-notes.html#deprecations\n",
      "`np.bool` is a deprecated alias for the builtin `bool`. To silence this warning, use `bool` by itself. Doing this will not modify any behavior and is safe. If you specifically wanted the numpy scalar type, use `np.bool_` here.\n",
      "Deprecated in NumPy 1.20; for more details and guidance: https://numpy.org/devdocs/release/1.20.0-notes.html#deprecations\n",
      "`np.bool` is a deprecated alias for the builtin `bool`. To silence this warning, use `bool` by itself. Doing this will not modify any behavior and is safe. If you specifically wanted the numpy scalar type, use `np.bool_` here.\n",
      "Deprecated in NumPy 1.20; for more details and guidance: https://numpy.org/devdocs/release/1.20.0-notes.html#deprecations\n",
      "`np.bool` is a deprecated alias for the builtin `bool`. To silence this warning, use `bool` by itself. Doing this will not modify any behavior and is safe. If you specifically wanted the numpy scalar type, use `np.bool_` here.\n",
      "Deprecated in NumPy 1.20; for more details and guidance: https://numpy.org/devdocs/release/1.20.0-notes.html#deprecations\n",
      "`np.bool` is a deprecated alias for the builtin `bool`. To silence this warning, use `bool` by itself. Doing this will not modify any behavior and is safe. If you specifically wanted the numpy scalar type, use `np.bool_` here.\n",
      "Deprecated in NumPy 1.20; for more details and guidance: https://numpy.org/devdocs/release/1.20.0-notes.html#deprecations\n",
      "`np.bool` is a deprecated alias for the builtin `bool`. To silence this warning, use `bool` by itself. Doing this will not modify any behavior and is safe. If you specifically wanted the numpy scalar type, use `np.bool_` here.\n",
      "Deprecated in NumPy 1.20; for more details and guidance: https://numpy.org/devdocs/release/1.20.0-notes.html#deprecations\n",
      "`np.bool` is a deprecated alias for the builtin `bool`. To silence this warning, use `bool` by itself. Doing this will not modify any behavior and is safe. If you specifically wanted the numpy scalar type, use `np.bool_` here.\n",
      "Deprecated in NumPy 1.20; for more details and guidance: https://numpy.org/devdocs/release/1.20.0-notes.html#deprecations\n",
      "`np.bool` is a deprecated alias for the builtin `bool`. To silence this warning, use `bool` by itself. Doing this will not modify any behavior and is safe. If you specifically wanted the numpy scalar type, use `np.bool_` here.\n",
      "Deprecated in NumPy 1.20; for more details and guidance: https://numpy.org/devdocs/release/1.20.0-notes.html#deprecations\n",
      "`np.bool` is a deprecated alias for the builtin `bool`. To silence this warning, use `bool` by itself. Doing this will not modify any behavior and is safe. If you specifically wanted the numpy scalar type, use `np.bool_` here.\n",
      "Deprecated in NumPy 1.20; for more details and guidance: https://numpy.org/devdocs/release/1.20.0-notes.html#deprecations\n",
      "`np.bool` is a deprecated alias for the builtin `bool`. To silence this warning, use `bool` by itself. Doing this will not modify any behavior and is safe. If you specifically wanted the numpy scalar type, use `np.bool_` here.\n",
      "Deprecated in NumPy 1.20; for more details and guidance: https://numpy.org/devdocs/release/1.20.0-notes.html#deprecations\n",
      "`np.bool` is a deprecated alias for the builtin `bool`. To silence this warning, use `bool` by itself. Doing this will not modify any behavior and is safe. If you specifically wanted the numpy scalar type, use `np.bool_` here.\n",
      "Deprecated in NumPy 1.20; for more details and guidance: https://numpy.org/devdocs/release/1.20.0-notes.html#deprecations\n",
      "`np.bool` is a deprecated alias for the builtin `bool`. To silence this warning, use `bool` by itself. Doing this will not modify any behavior and is safe. If you specifically wanted the numpy scalar type, use `np.bool_` here.\n",
      "Deprecated in NumPy 1.20; for more details and guidance: https://numpy.org/devdocs/release/1.20.0-notes.html#deprecations\n",
      "`np.bool` is a deprecated alias for the builtin `bool`. To silence this warning, use `bool` by itself. Doing this will not modify any behavior and is safe. If you specifically wanted the numpy scalar type, use `np.bool_` here.\n",
      "Deprecated in NumPy 1.20; for more details and guidance: https://numpy.org/devdocs/release/1.20.0-notes.html#deprecations\n",
      "`np.bool` is a deprecated alias for the builtin `bool`. To silence this warning, use `bool` by itself. Doing this will not modify any behavior and is safe. If you specifically wanted the numpy scalar type, use `np.bool_` here.\n",
      "Deprecated in NumPy 1.20; for more details and guidance: https://numpy.org/devdocs/release/1.20.0-notes.html#deprecations\n",
      "`np.bool` is a deprecated alias for the builtin `bool`. To silence this warning, use `bool` by itself. Doing this will not modify any behavior and is safe. If you specifically wanted the numpy scalar type, use `np.bool_` here.\n",
      "Deprecated in NumPy 1.20; for more details and guidance: https://numpy.org/devdocs/release/1.20.0-notes.html#deprecations\n",
      "`np.bool` is a deprecated alias for the builtin `bool`. To silence this warning, use `bool` by itself. Doing this will not modify any behavior and is safe. If you specifically wanted the numpy scalar type, use `np.bool_` here.\n",
      "Deprecated in NumPy 1.20; for more details and guidance: https://numpy.org/devdocs/release/1.20.0-notes.html#deprecations\n",
      "`np.bool` is a deprecated alias for the builtin `bool`. To silence this warning, use `bool` by itself. Doing this will not modify any behavior and is safe. If you specifically wanted the numpy scalar type, use `np.bool_` here.\n",
      "Deprecated in NumPy 1.20; for more details and guidance: https://numpy.org/devdocs/release/1.20.0-notes.html#deprecations\n",
      "`np.bool` is a deprecated alias for the builtin `bool`. To silence this warning, use `bool` by itself. Doing this will not modify any behavior and is safe. If you specifically wanted the numpy scalar type, use `np.bool_` here.\n",
      "Deprecated in NumPy 1.20; for more details and guidance: https://numpy.org/devdocs/release/1.20.0-notes.html#deprecations\n",
      "`np.bool` is a deprecated alias for the builtin `bool`. To silence this warning, use `bool` by itself. Doing this will not modify any behavior and is safe. If you specifically wanted the numpy scalar type, use `np.bool_` here.\n",
      "Deprecated in NumPy 1.20; for more details and guidance: https://numpy.org/devdocs/release/1.20.0-notes.html#deprecations\n",
      "`np.bool` is a deprecated alias for the builtin `bool`. To silence this warning, use `bool` by itself. Doing this will not modify any behavior and is safe. If you specifically wanted the numpy scalar type, use `np.bool_` here.\n",
      "Deprecated in NumPy 1.20; for more details and guidance: https://numpy.org/devdocs/release/1.20.0-notes.html#deprecations\n"
     ]
    },
    {
     "name": "stderr",
     "output_type": "stream",
     "text": [
      "`np.bool` is a deprecated alias for the builtin `bool`. To silence this warning, use `bool` by itself. Doing this will not modify any behavior and is safe. If you specifically wanted the numpy scalar type, use `np.bool_` here.\n",
      "Deprecated in NumPy 1.20; for more details and guidance: https://numpy.org/devdocs/release/1.20.0-notes.html#deprecations\n",
      "`np.bool` is a deprecated alias for the builtin `bool`. To silence this warning, use `bool` by itself. Doing this will not modify any behavior and is safe. If you specifically wanted the numpy scalar type, use `np.bool_` here.\n",
      "Deprecated in NumPy 1.20; for more details and guidance: https://numpy.org/devdocs/release/1.20.0-notes.html#deprecations\n",
      "`np.bool` is a deprecated alias for the builtin `bool`. To silence this warning, use `bool` by itself. Doing this will not modify any behavior and is safe. If you specifically wanted the numpy scalar type, use `np.bool_` here.\n",
      "Deprecated in NumPy 1.20; for more details and guidance: https://numpy.org/devdocs/release/1.20.0-notes.html#deprecations\n",
      "`np.bool` is a deprecated alias for the builtin `bool`. To silence this warning, use `bool` by itself. Doing this will not modify any behavior and is safe. If you specifically wanted the numpy scalar type, use `np.bool_` here.\n",
      "Deprecated in NumPy 1.20; for more details and guidance: https://numpy.org/devdocs/release/1.20.0-notes.html#deprecations\n",
      "`np.bool` is a deprecated alias for the builtin `bool`. To silence this warning, use `bool` by itself. Doing this will not modify any behavior and is safe. If you specifically wanted the numpy scalar type, use `np.bool_` here.\n",
      "Deprecated in NumPy 1.20; for more details and guidance: https://numpy.org/devdocs/release/1.20.0-notes.html#deprecations\n",
      "`np.bool` is a deprecated alias for the builtin `bool`. To silence this warning, use `bool` by itself. Doing this will not modify any behavior and is safe. If you specifically wanted the numpy scalar type, use `np.bool_` here.\n",
      "Deprecated in NumPy 1.20; for more details and guidance: https://numpy.org/devdocs/release/1.20.0-notes.html#deprecations\n",
      "`np.bool` is a deprecated alias for the builtin `bool`. To silence this warning, use `bool` by itself. Doing this will not modify any behavior and is safe. If you specifically wanted the numpy scalar type, use `np.bool_` here.\n",
      "Deprecated in NumPy 1.20; for more details and guidance: https://numpy.org/devdocs/release/1.20.0-notes.html#deprecations\n",
      "`np.bool` is a deprecated alias for the builtin `bool`. To silence this warning, use `bool` by itself. Doing this will not modify any behavior and is safe. If you specifically wanted the numpy scalar type, use `np.bool_` here.\n",
      "Deprecated in NumPy 1.20; for more details and guidance: https://numpy.org/devdocs/release/1.20.0-notes.html#deprecations\n",
      "`np.bool` is a deprecated alias for the builtin `bool`. To silence this warning, use `bool` by itself. Doing this will not modify any behavior and is safe. If you specifically wanted the numpy scalar type, use `np.bool_` here.\n",
      "Deprecated in NumPy 1.20; for more details and guidance: https://numpy.org/devdocs/release/1.20.0-notes.html#deprecations\n",
      "`np.bool` is a deprecated alias for the builtin `bool`. To silence this warning, use `bool` by itself. Doing this will not modify any behavior and is safe. If you specifically wanted the numpy scalar type, use `np.bool_` here.\n",
      "Deprecated in NumPy 1.20; for more details and guidance: https://numpy.org/devdocs/release/1.20.0-notes.html#deprecations\n",
      "`np.bool` is a deprecated alias for the builtin `bool`. To silence this warning, use `bool` by itself. Doing this will not modify any behavior and is safe. If you specifically wanted the numpy scalar type, use `np.bool_` here.\n",
      "Deprecated in NumPy 1.20; for more details and guidance: https://numpy.org/devdocs/release/1.20.0-notes.html#deprecations\n",
      "`np.bool` is a deprecated alias for the builtin `bool`. To silence this warning, use `bool` by itself. Doing this will not modify any behavior and is safe. If you specifically wanted the numpy scalar type, use `np.bool_` here.\n",
      "Deprecated in NumPy 1.20; for more details and guidance: https://numpy.org/devdocs/release/1.20.0-notes.html#deprecations\n",
      "`np.bool` is a deprecated alias for the builtin `bool`. To silence this warning, use `bool` by itself. Doing this will not modify any behavior and is safe. If you specifically wanted the numpy scalar type, use `np.bool_` here.\n",
      "Deprecated in NumPy 1.20; for more details and guidance: https://numpy.org/devdocs/release/1.20.0-notes.html#deprecations\n",
      "`np.bool` is a deprecated alias for the builtin `bool`. To silence this warning, use `bool` by itself. Doing this will not modify any behavior and is safe. If you specifically wanted the numpy scalar type, use `np.bool_` here.\n",
      "Deprecated in NumPy 1.20; for more details and guidance: https://numpy.org/devdocs/release/1.20.0-notes.html#deprecations\n",
      "`np.bool` is a deprecated alias for the builtin `bool`. To silence this warning, use `bool` by itself. Doing this will not modify any behavior and is safe. If you specifically wanted the numpy scalar type, use `np.bool_` here.\n",
      "Deprecated in NumPy 1.20; for more details and guidance: https://numpy.org/devdocs/release/1.20.0-notes.html#deprecations\n",
      "`np.bool` is a deprecated alias for the builtin `bool`. To silence this warning, use `bool` by itself. Doing this will not modify any behavior and is safe. If you specifically wanted the numpy scalar type, use `np.bool_` here.\n",
      "Deprecated in NumPy 1.20; for more details and guidance: https://numpy.org/devdocs/release/1.20.0-notes.html#deprecations\n",
      "`np.bool` is a deprecated alias for the builtin `bool`. To silence this warning, use `bool` by itself. Doing this will not modify any behavior and is safe. If you specifically wanted the numpy scalar type, use `np.bool_` here.\n",
      "Deprecated in NumPy 1.20; for more details and guidance: https://numpy.org/devdocs/release/1.20.0-notes.html#deprecations\n",
      "`np.bool` is a deprecated alias for the builtin `bool`. To silence this warning, use `bool` by itself. Doing this will not modify any behavior and is safe. If you specifically wanted the numpy scalar type, use `np.bool_` here.\n",
      "Deprecated in NumPy 1.20; for more details and guidance: https://numpy.org/devdocs/release/1.20.0-notes.html#deprecations\n",
      "`np.bool` is a deprecated alias for the builtin `bool`. To silence this warning, use `bool` by itself. Doing this will not modify any behavior and is safe. If you specifically wanted the numpy scalar type, use `np.bool_` here.\n",
      "Deprecated in NumPy 1.20; for more details and guidance: https://numpy.org/devdocs/release/1.20.0-notes.html#deprecations\n",
      "`np.bool` is a deprecated alias for the builtin `bool`. To silence this warning, use `bool` by itself. Doing this will not modify any behavior and is safe. If you specifically wanted the numpy scalar type, use `np.bool_` here.\n",
      "Deprecated in NumPy 1.20; for more details and guidance: https://numpy.org/devdocs/release/1.20.0-notes.html#deprecations\n",
      "`np.bool` is a deprecated alias for the builtin `bool`. To silence this warning, use `bool` by itself. Doing this will not modify any behavior and is safe. If you specifically wanted the numpy scalar type, use `np.bool_` here.\n",
      "Deprecated in NumPy 1.20; for more details and guidance: https://numpy.org/devdocs/release/1.20.0-notes.html#deprecations\n",
      "`np.bool` is a deprecated alias for the builtin `bool`. To silence this warning, use `bool` by itself. Doing this will not modify any behavior and is safe. If you specifically wanted the numpy scalar type, use `np.bool_` here.\n",
      "Deprecated in NumPy 1.20; for more details and guidance: https://numpy.org/devdocs/release/1.20.0-notes.html#deprecations\n",
      "`np.bool` is a deprecated alias for the builtin `bool`. To silence this warning, use `bool` by itself. Doing this will not modify any behavior and is safe. If you specifically wanted the numpy scalar type, use `np.bool_` here.\n",
      "Deprecated in NumPy 1.20; for more details and guidance: https://numpy.org/devdocs/release/1.20.0-notes.html#deprecations\n",
      "`np.bool` is a deprecated alias for the builtin `bool`. To silence this warning, use `bool` by itself. Doing this will not modify any behavior and is safe. If you specifically wanted the numpy scalar type, use `np.bool_` here.\n",
      "Deprecated in NumPy 1.20; for more details and guidance: https://numpy.org/devdocs/release/1.20.0-notes.html#deprecations\n"
     ]
    },
    {
     "name": "stderr",
     "output_type": "stream",
     "text": [
      "`np.bool` is a deprecated alias for the builtin `bool`. To silence this warning, use `bool` by itself. Doing this will not modify any behavior and is safe. If you specifically wanted the numpy scalar type, use `np.bool_` here.\n",
      "Deprecated in NumPy 1.20; for more details and guidance: https://numpy.org/devdocs/release/1.20.0-notes.html#deprecations\n",
      "`np.bool` is a deprecated alias for the builtin `bool`. To silence this warning, use `bool` by itself. Doing this will not modify any behavior and is safe. If you specifically wanted the numpy scalar type, use `np.bool_` here.\n",
      "Deprecated in NumPy 1.20; for more details and guidance: https://numpy.org/devdocs/release/1.20.0-notes.html#deprecations\n",
      "`np.bool` is a deprecated alias for the builtin `bool`. To silence this warning, use `bool` by itself. Doing this will not modify any behavior and is safe. If you specifically wanted the numpy scalar type, use `np.bool_` here.\n",
      "Deprecated in NumPy 1.20; for more details and guidance: https://numpy.org/devdocs/release/1.20.0-notes.html#deprecations\n",
      "`np.bool` is a deprecated alias for the builtin `bool`. To silence this warning, use `bool` by itself. Doing this will not modify any behavior and is safe. If you specifically wanted the numpy scalar type, use `np.bool_` here.\n",
      "Deprecated in NumPy 1.20; for more details and guidance: https://numpy.org/devdocs/release/1.20.0-notes.html#deprecations\n",
      "`np.bool` is a deprecated alias for the builtin `bool`. To silence this warning, use `bool` by itself. Doing this will not modify any behavior and is safe. If you specifically wanted the numpy scalar type, use `np.bool_` here.\n",
      "Deprecated in NumPy 1.20; for more details and guidance: https://numpy.org/devdocs/release/1.20.0-notes.html#deprecations\n",
      "`np.bool` is a deprecated alias for the builtin `bool`. To silence this warning, use `bool` by itself. Doing this will not modify any behavior and is safe. If you specifically wanted the numpy scalar type, use `np.bool_` here.\n",
      "Deprecated in NumPy 1.20; for more details and guidance: https://numpy.org/devdocs/release/1.20.0-notes.html#deprecations\n",
      "`np.bool` is a deprecated alias for the builtin `bool`. To silence this warning, use `bool` by itself. Doing this will not modify any behavior and is safe. If you specifically wanted the numpy scalar type, use `np.bool_` here.\n",
      "Deprecated in NumPy 1.20; for more details and guidance: https://numpy.org/devdocs/release/1.20.0-notes.html#deprecations\n",
      "`np.bool` is a deprecated alias for the builtin `bool`. To silence this warning, use `bool` by itself. Doing this will not modify any behavior and is safe. If you specifically wanted the numpy scalar type, use `np.bool_` here.\n",
      "Deprecated in NumPy 1.20; for more details and guidance: https://numpy.org/devdocs/release/1.20.0-notes.html#deprecations\n",
      "`np.bool` is a deprecated alias for the builtin `bool`. To silence this warning, use `bool` by itself. Doing this will not modify any behavior and is safe. If you specifically wanted the numpy scalar type, use `np.bool_` here.\n",
      "Deprecated in NumPy 1.20; for more details and guidance: https://numpy.org/devdocs/release/1.20.0-notes.html#deprecations\n",
      "`np.bool` is a deprecated alias for the builtin `bool`. To silence this warning, use `bool` by itself. Doing this will not modify any behavior and is safe. If you specifically wanted the numpy scalar type, use `np.bool_` here.\n",
      "Deprecated in NumPy 1.20; for more details and guidance: https://numpy.org/devdocs/release/1.20.0-notes.html#deprecations\n",
      "`np.bool` is a deprecated alias for the builtin `bool`. To silence this warning, use `bool` by itself. Doing this will not modify any behavior and is safe. If you specifically wanted the numpy scalar type, use `np.bool_` here.\n",
      "Deprecated in NumPy 1.20; for more details and guidance: https://numpy.org/devdocs/release/1.20.0-notes.html#deprecations\n",
      "`np.bool` is a deprecated alias for the builtin `bool`. To silence this warning, use `bool` by itself. Doing this will not modify any behavior and is safe. If you specifically wanted the numpy scalar type, use `np.bool_` here.\n",
      "Deprecated in NumPy 1.20; for more details and guidance: https://numpy.org/devdocs/release/1.20.0-notes.html#deprecations\n",
      "`np.bool` is a deprecated alias for the builtin `bool`. To silence this warning, use `bool` by itself. Doing this will not modify any behavior and is safe. If you specifically wanted the numpy scalar type, use `np.bool_` here.\n",
      "Deprecated in NumPy 1.20; for more details and guidance: https://numpy.org/devdocs/release/1.20.0-notes.html#deprecations\n",
      "`np.bool` is a deprecated alias for the builtin `bool`. To silence this warning, use `bool` by itself. Doing this will not modify any behavior and is safe. If you specifically wanted the numpy scalar type, use `np.bool_` here.\n",
      "Deprecated in NumPy 1.20; for more details and guidance: https://numpy.org/devdocs/release/1.20.0-notes.html#deprecations\n",
      "`np.bool` is a deprecated alias for the builtin `bool`. To silence this warning, use `bool` by itself. Doing this will not modify any behavior and is safe. If you specifically wanted the numpy scalar type, use `np.bool_` here.\n",
      "Deprecated in NumPy 1.20; for more details and guidance: https://numpy.org/devdocs/release/1.20.0-notes.html#deprecations\n",
      "`np.bool` is a deprecated alias for the builtin `bool`. To silence this warning, use `bool` by itself. Doing this will not modify any behavior and is safe. If you specifically wanted the numpy scalar type, use `np.bool_` here.\n",
      "Deprecated in NumPy 1.20; for more details and guidance: https://numpy.org/devdocs/release/1.20.0-notes.html#deprecations\n",
      "`np.bool` is a deprecated alias for the builtin `bool`. To silence this warning, use `bool` by itself. Doing this will not modify any behavior and is safe. If you specifically wanted the numpy scalar type, use `np.bool_` here.\n",
      "Deprecated in NumPy 1.20; for more details and guidance: https://numpy.org/devdocs/release/1.20.0-notes.html#deprecations\n",
      "`np.bool` is a deprecated alias for the builtin `bool`. To silence this warning, use `bool` by itself. Doing this will not modify any behavior and is safe. If you specifically wanted the numpy scalar type, use `np.bool_` here.\n",
      "Deprecated in NumPy 1.20; for more details and guidance: https://numpy.org/devdocs/release/1.20.0-notes.html#deprecations\n",
      "`np.bool` is a deprecated alias for the builtin `bool`. To silence this warning, use `bool` by itself. Doing this will not modify any behavior and is safe. If you specifically wanted the numpy scalar type, use `np.bool_` here.\n",
      "Deprecated in NumPy 1.20; for more details and guidance: https://numpy.org/devdocs/release/1.20.0-notes.html#deprecations\n",
      "`np.bool` is a deprecated alias for the builtin `bool`. To silence this warning, use `bool` by itself. Doing this will not modify any behavior and is safe. If you specifically wanted the numpy scalar type, use `np.bool_` here.\n",
      "Deprecated in NumPy 1.20; for more details and guidance: https://numpy.org/devdocs/release/1.20.0-notes.html#deprecations\n",
      "`np.bool` is a deprecated alias for the builtin `bool`. To silence this warning, use `bool` by itself. Doing this will not modify any behavior and is safe. If you specifically wanted the numpy scalar type, use `np.bool_` here.\n",
      "Deprecated in NumPy 1.20; for more details and guidance: https://numpy.org/devdocs/release/1.20.0-notes.html#deprecations\n",
      "`np.bool` is a deprecated alias for the builtin `bool`. To silence this warning, use `bool` by itself. Doing this will not modify any behavior and is safe. If you specifically wanted the numpy scalar type, use `np.bool_` here.\n",
      "Deprecated in NumPy 1.20; for more details and guidance: https://numpy.org/devdocs/release/1.20.0-notes.html#deprecations\n",
      "`np.bool` is a deprecated alias for the builtin `bool`. To silence this warning, use `bool` by itself. Doing this will not modify any behavior and is safe. If you specifically wanted the numpy scalar type, use `np.bool_` here.\n",
      "Deprecated in NumPy 1.20; for more details and guidance: https://numpy.org/devdocs/release/1.20.0-notes.html#deprecations\n",
      "`np.bool` is a deprecated alias for the builtin `bool`. To silence this warning, use `bool` by itself. Doing this will not modify any behavior and is safe. If you specifically wanted the numpy scalar type, use `np.bool_` here.\n",
      "Deprecated in NumPy 1.20; for more details and guidance: https://numpy.org/devdocs/release/1.20.0-notes.html#deprecations\n"
     ]
    },
    {
     "name": "stderr",
     "output_type": "stream",
     "text": [
      "`np.bool` is a deprecated alias for the builtin `bool`. To silence this warning, use `bool` by itself. Doing this will not modify any behavior and is safe. If you specifically wanted the numpy scalar type, use `np.bool_` here.\n",
      "Deprecated in NumPy 1.20; for more details and guidance: https://numpy.org/devdocs/release/1.20.0-notes.html#deprecations\n",
      "`np.bool` is a deprecated alias for the builtin `bool`. To silence this warning, use `bool` by itself. Doing this will not modify any behavior and is safe. If you specifically wanted the numpy scalar type, use `np.bool_` here.\n",
      "Deprecated in NumPy 1.20; for more details and guidance: https://numpy.org/devdocs/release/1.20.0-notes.html#deprecations\n",
      "`np.bool` is a deprecated alias for the builtin `bool`. To silence this warning, use `bool` by itself. Doing this will not modify any behavior and is safe. If you specifically wanted the numpy scalar type, use `np.bool_` here.\n",
      "Deprecated in NumPy 1.20; for more details and guidance: https://numpy.org/devdocs/release/1.20.0-notes.html#deprecations\n",
      "`np.bool` is a deprecated alias for the builtin `bool`. To silence this warning, use `bool` by itself. Doing this will not modify any behavior and is safe. If you specifically wanted the numpy scalar type, use `np.bool_` here.\n",
      "Deprecated in NumPy 1.20; for more details and guidance: https://numpy.org/devdocs/release/1.20.0-notes.html#deprecations\n",
      "`np.bool` is a deprecated alias for the builtin `bool`. To silence this warning, use `bool` by itself. Doing this will not modify any behavior and is safe. If you specifically wanted the numpy scalar type, use `np.bool_` here.\n",
      "Deprecated in NumPy 1.20; for more details and guidance: https://numpy.org/devdocs/release/1.20.0-notes.html#deprecations\n",
      "`np.bool` is a deprecated alias for the builtin `bool`. To silence this warning, use `bool` by itself. Doing this will not modify any behavior and is safe. If you specifically wanted the numpy scalar type, use `np.bool_` here.\n",
      "Deprecated in NumPy 1.20; for more details and guidance: https://numpy.org/devdocs/release/1.20.0-notes.html#deprecations\n",
      "`np.bool` is a deprecated alias for the builtin `bool`. To silence this warning, use `bool` by itself. Doing this will not modify any behavior and is safe. If you specifically wanted the numpy scalar type, use `np.bool_` here.\n",
      "Deprecated in NumPy 1.20; for more details and guidance: https://numpy.org/devdocs/release/1.20.0-notes.html#deprecations\n",
      "`np.bool` is a deprecated alias for the builtin `bool`. To silence this warning, use `bool` by itself. Doing this will not modify any behavior and is safe. If you specifically wanted the numpy scalar type, use `np.bool_` here.\n",
      "Deprecated in NumPy 1.20; for more details and guidance: https://numpy.org/devdocs/release/1.20.0-notes.html#deprecations\n",
      "`np.bool` is a deprecated alias for the builtin `bool`. To silence this warning, use `bool` by itself. Doing this will not modify any behavior and is safe. If you specifically wanted the numpy scalar type, use `np.bool_` here.\n",
      "Deprecated in NumPy 1.20; for more details and guidance: https://numpy.org/devdocs/release/1.20.0-notes.html#deprecations\n",
      "`np.bool` is a deprecated alias for the builtin `bool`. To silence this warning, use `bool` by itself. Doing this will not modify any behavior and is safe. If you specifically wanted the numpy scalar type, use `np.bool_` here.\n",
      "Deprecated in NumPy 1.20; for more details and guidance: https://numpy.org/devdocs/release/1.20.0-notes.html#deprecations\n",
      "`np.bool` is a deprecated alias for the builtin `bool`. To silence this warning, use `bool` by itself. Doing this will not modify any behavior and is safe. If you specifically wanted the numpy scalar type, use `np.bool_` here.\n",
      "Deprecated in NumPy 1.20; for more details and guidance: https://numpy.org/devdocs/release/1.20.0-notes.html#deprecations\n",
      "`np.bool` is a deprecated alias for the builtin `bool`. To silence this warning, use `bool` by itself. Doing this will not modify any behavior and is safe. If you specifically wanted the numpy scalar type, use `np.bool_` here.\n",
      "Deprecated in NumPy 1.20; for more details and guidance: https://numpy.org/devdocs/release/1.20.0-notes.html#deprecations\n",
      "`np.bool` is a deprecated alias for the builtin `bool`. To silence this warning, use `bool` by itself. Doing this will not modify any behavior and is safe. If you specifically wanted the numpy scalar type, use `np.bool_` here.\n",
      "Deprecated in NumPy 1.20; for more details and guidance: https://numpy.org/devdocs/release/1.20.0-notes.html#deprecations\n",
      "`np.bool` is a deprecated alias for the builtin `bool`. To silence this warning, use `bool` by itself. Doing this will not modify any behavior and is safe. If you specifically wanted the numpy scalar type, use `np.bool_` here.\n",
      "Deprecated in NumPy 1.20; for more details and guidance: https://numpy.org/devdocs/release/1.20.0-notes.html#deprecations\n",
      "`np.bool` is a deprecated alias for the builtin `bool`. To silence this warning, use `bool` by itself. Doing this will not modify any behavior and is safe. If you specifically wanted the numpy scalar type, use `np.bool_` here.\n",
      "Deprecated in NumPy 1.20; for more details and guidance: https://numpy.org/devdocs/release/1.20.0-notes.html#deprecations\n",
      "`np.bool` is a deprecated alias for the builtin `bool`. To silence this warning, use `bool` by itself. Doing this will not modify any behavior and is safe. If you specifically wanted the numpy scalar type, use `np.bool_` here.\n",
      "Deprecated in NumPy 1.20; for more details and guidance: https://numpy.org/devdocs/release/1.20.0-notes.html#deprecations\n",
      "`np.bool` is a deprecated alias for the builtin `bool`. To silence this warning, use `bool` by itself. Doing this will not modify any behavior and is safe. If you specifically wanted the numpy scalar type, use `np.bool_` here.\n",
      "Deprecated in NumPy 1.20; for more details and guidance: https://numpy.org/devdocs/release/1.20.0-notes.html#deprecations\n",
      "`np.bool` is a deprecated alias for the builtin `bool`. To silence this warning, use `bool` by itself. Doing this will not modify any behavior and is safe. If you specifically wanted the numpy scalar type, use `np.bool_` here.\n",
      "Deprecated in NumPy 1.20; for more details and guidance: https://numpy.org/devdocs/release/1.20.0-notes.html#deprecations\n",
      "`np.bool` is a deprecated alias for the builtin `bool`. To silence this warning, use `bool` by itself. Doing this will not modify any behavior and is safe. If you specifically wanted the numpy scalar type, use `np.bool_` here.\n",
      "Deprecated in NumPy 1.20; for more details and guidance: https://numpy.org/devdocs/release/1.20.0-notes.html#deprecations\n",
      "`np.bool` is a deprecated alias for the builtin `bool`. To silence this warning, use `bool` by itself. Doing this will not modify any behavior and is safe. If you specifically wanted the numpy scalar type, use `np.bool_` here.\n",
      "Deprecated in NumPy 1.20; for more details and guidance: https://numpy.org/devdocs/release/1.20.0-notes.html#deprecations\n",
      "`np.bool` is a deprecated alias for the builtin `bool`. To silence this warning, use `bool` by itself. Doing this will not modify any behavior and is safe. If you specifically wanted the numpy scalar type, use `np.bool_` here.\n",
      "Deprecated in NumPy 1.20; for more details and guidance: https://numpy.org/devdocs/release/1.20.0-notes.html#deprecations\n",
      "`np.bool` is a deprecated alias for the builtin `bool`. To silence this warning, use `bool` by itself. Doing this will not modify any behavior and is safe. If you specifically wanted the numpy scalar type, use `np.bool_` here.\n",
      "Deprecated in NumPy 1.20; for more details and guidance: https://numpy.org/devdocs/release/1.20.0-notes.html#deprecations\n",
      "`np.bool` is a deprecated alias for the builtin `bool`. To silence this warning, use `bool` by itself. Doing this will not modify any behavior and is safe. If you specifically wanted the numpy scalar type, use `np.bool_` here.\n",
      "Deprecated in NumPy 1.20; for more details and guidance: https://numpy.org/devdocs/release/1.20.0-notes.html#deprecations\n",
      "`np.bool` is a deprecated alias for the builtin `bool`. To silence this warning, use `bool` by itself. Doing this will not modify any behavior and is safe. If you specifically wanted the numpy scalar type, use `np.bool_` here.\n",
      "Deprecated in NumPy 1.20; for more details and guidance: https://numpy.org/devdocs/release/1.20.0-notes.html#deprecations\n"
     ]
    },
    {
     "name": "stderr",
     "output_type": "stream",
     "text": [
      "`np.bool` is a deprecated alias for the builtin `bool`. To silence this warning, use `bool` by itself. Doing this will not modify any behavior and is safe. If you specifically wanted the numpy scalar type, use `np.bool_` here.\n",
      "Deprecated in NumPy 1.20; for more details and guidance: https://numpy.org/devdocs/release/1.20.0-notes.html#deprecations\n",
      "`np.bool` is a deprecated alias for the builtin `bool`. To silence this warning, use `bool` by itself. Doing this will not modify any behavior and is safe. If you specifically wanted the numpy scalar type, use `np.bool_` here.\n",
      "Deprecated in NumPy 1.20; for more details and guidance: https://numpy.org/devdocs/release/1.20.0-notes.html#deprecations\n",
      "`np.bool` is a deprecated alias for the builtin `bool`. To silence this warning, use `bool` by itself. Doing this will not modify any behavior and is safe. If you specifically wanted the numpy scalar type, use `np.bool_` here.\n",
      "Deprecated in NumPy 1.20; for more details and guidance: https://numpy.org/devdocs/release/1.20.0-notes.html#deprecations\n",
      "`np.bool` is a deprecated alias for the builtin `bool`. To silence this warning, use `bool` by itself. Doing this will not modify any behavior and is safe. If you specifically wanted the numpy scalar type, use `np.bool_` here.\n",
      "Deprecated in NumPy 1.20; for more details and guidance: https://numpy.org/devdocs/release/1.20.0-notes.html#deprecations\n",
      "`np.bool` is a deprecated alias for the builtin `bool`. To silence this warning, use `bool` by itself. Doing this will not modify any behavior and is safe. If you specifically wanted the numpy scalar type, use `np.bool_` here.\n",
      "Deprecated in NumPy 1.20; for more details and guidance: https://numpy.org/devdocs/release/1.20.0-notes.html#deprecations\n",
      "`np.bool` is a deprecated alias for the builtin `bool`. To silence this warning, use `bool` by itself. Doing this will not modify any behavior and is safe. If you specifically wanted the numpy scalar type, use `np.bool_` here.\n",
      "Deprecated in NumPy 1.20; for more details and guidance: https://numpy.org/devdocs/release/1.20.0-notes.html#deprecations\n",
      "`np.bool` is a deprecated alias for the builtin `bool`. To silence this warning, use `bool` by itself. Doing this will not modify any behavior and is safe. If you specifically wanted the numpy scalar type, use `np.bool_` here.\n",
      "Deprecated in NumPy 1.20; for more details and guidance: https://numpy.org/devdocs/release/1.20.0-notes.html#deprecations\n",
      "`np.bool` is a deprecated alias for the builtin `bool`. To silence this warning, use `bool` by itself. Doing this will not modify any behavior and is safe. If you specifically wanted the numpy scalar type, use `np.bool_` here.\n",
      "Deprecated in NumPy 1.20; for more details and guidance: https://numpy.org/devdocs/release/1.20.0-notes.html#deprecations\n",
      "`np.bool` is a deprecated alias for the builtin `bool`. To silence this warning, use `bool` by itself. Doing this will not modify any behavior and is safe. If you specifically wanted the numpy scalar type, use `np.bool_` here.\n",
      "Deprecated in NumPy 1.20; for more details and guidance: https://numpy.org/devdocs/release/1.20.0-notes.html#deprecations\n",
      "`np.bool` is a deprecated alias for the builtin `bool`. To silence this warning, use `bool` by itself. Doing this will not modify any behavior and is safe. If you specifically wanted the numpy scalar type, use `np.bool_` here.\n",
      "Deprecated in NumPy 1.20; for more details and guidance: https://numpy.org/devdocs/release/1.20.0-notes.html#deprecations\n",
      "`np.bool` is a deprecated alias for the builtin `bool`. To silence this warning, use `bool` by itself. Doing this will not modify any behavior and is safe. If you specifically wanted the numpy scalar type, use `np.bool_` here.\n",
      "Deprecated in NumPy 1.20; for more details and guidance: https://numpy.org/devdocs/release/1.20.0-notes.html#deprecations\n",
      "`np.bool` is a deprecated alias for the builtin `bool`. To silence this warning, use `bool` by itself. Doing this will not modify any behavior and is safe. If you specifically wanted the numpy scalar type, use `np.bool_` here.\n",
      "Deprecated in NumPy 1.20; for more details and guidance: https://numpy.org/devdocs/release/1.20.0-notes.html#deprecations\n",
      "`np.bool` is a deprecated alias for the builtin `bool`. To silence this warning, use `bool` by itself. Doing this will not modify any behavior and is safe. If you specifically wanted the numpy scalar type, use `np.bool_` here.\n",
      "Deprecated in NumPy 1.20; for more details and guidance: https://numpy.org/devdocs/release/1.20.0-notes.html#deprecations\n",
      "`np.bool` is a deprecated alias for the builtin `bool`. To silence this warning, use `bool` by itself. Doing this will not modify any behavior and is safe. If you specifically wanted the numpy scalar type, use `np.bool_` here.\n",
      "Deprecated in NumPy 1.20; for more details and guidance: https://numpy.org/devdocs/release/1.20.0-notes.html#deprecations\n",
      "`np.bool` is a deprecated alias for the builtin `bool`. To silence this warning, use `bool` by itself. Doing this will not modify any behavior and is safe. If you specifically wanted the numpy scalar type, use `np.bool_` here.\n",
      "Deprecated in NumPy 1.20; for more details and guidance: https://numpy.org/devdocs/release/1.20.0-notes.html#deprecations\n",
      "`np.bool` is a deprecated alias for the builtin `bool`. To silence this warning, use `bool` by itself. Doing this will not modify any behavior and is safe. If you specifically wanted the numpy scalar type, use `np.bool_` here.\n",
      "Deprecated in NumPy 1.20; for more details and guidance: https://numpy.org/devdocs/release/1.20.0-notes.html#deprecations\n"
     ]
    },
    {
     "name": "stdout",
     "output_type": "stream",
     "text": [
      "--------Gradient Boosting Regressor--------\n",
      "\n",
      "R-SQUARED ERROR:  0.910290643481589\n",
      "\n",
      "MEAN ABSOLUTE ERROR is:  1.1631588513267903\n",
      "\n",
      "MEAN SQUARED ERROR is:  3.0257102508178852\n",
      "\n"
     ]
    }
   ],
   "source": [
    "from sklearn.ensemble import GradientBoostingRegressor\n",
    "from sklearn import metrics\n",
    "\n",
    "algo = GradientBoostingRegressor(n_estimators=110)\n",
    "print (\"Number of inputs: \",len(y_train))\n",
    "model = algo.fit(X_train, y_train)\n",
    "\n",
    "train_pred = model.predict(X_train)\n",
    "y_pred = model.predict(X_test)\n",
    "y_pred=np.round(y_pred,2)\n",
    "\n",
    "print(\"--------Gradient Boosting Regressor--------\")\n",
    "print()\n",
    "\n",
    "# R-SQUARED ERROR\n",
    "print (\"R-SQUARED ERROR: \", metrics.r2_score(y_train, train_pred))\n",
    "print()\n",
    "\n",
    "# MEAN ABSOLUTE ERROR\n",
    "print (\"MEAN ABSOLUTE ERROR is: \", metrics.mean_absolute_error(y_test, y_pred))\n",
    "print()\n",
    "\n",
    "# MEAN SQUARED ERROR\n",
    "print (\"MEAN SQUARED ERROR is: \", metrics.mean_squared_error(y_test, y_pred))\n",
    "print()\n",
    "\n",
    "print\n",
    "errors = []\n",
    "for i,j in zip(y_test, y_pred):\n",
    "    if abs(i-j)<3:\n",
    "        errors.append(abs(i-j))"
   ]
  },
  {
   "cell_type": "code",
   "execution_count": 155,
   "metadata": {},
   "outputs": [
    {
     "name": "stdout",
     "output_type": "stream",
     "text": [
      "Error distribution plot:\n"
     ]
    },
    {
     "data": {
      "text/plain": [
       "<matplotlib.axes._subplots.AxesSubplot at 0x19492f445f8>"
      ]
     },
     "execution_count": 155,
     "metadata": {},
     "output_type": "execute_result"
    },
    {
     "data": {
      "image/png": "[encoded data removed]",
      "text/plain": [
       "<Figure size 288x432 with 1 Axes>"
      ]
     },
     "metadata": {
      "needs_background": "light"
     },
     "output_type": "display_data"
    }
   ],
   "source": [
    "plt.figure(figsize=(4,6))\n",
    "print(\"Error distribution plot:\")\n",
    "sb.violinplot(y=errors, color=\"#4ff2e2\")"
   ]
  },
  {
   "cell_type": "code",
   "execution_count": 156,
   "metadata": {},
   "outputs": [],
   "source": [
    "A= 1-np.mean(errors)/ loans_df.interest_rate.mean()"
   ]
  },
  {
   "cell_type": "code",
   "execution_count": 157,
   "metadata": {},
   "outputs": [
    {
     "name": "stdout",
     "output_type": "stream",
     "text": [
      "Accuracy for interest rate prediction is: 92.77621424576516\n"
     ]
    }
   ],
   "source": [
    "print('Accuracy for interest rate prediction is:' ,A*100)"
   ]
  },
  {
   "cell_type": "markdown",
   "metadata": {},
   "source": [
    "## - XGBoost Regression For Prediction Of Interest Rate"
   ]
  },
  {
   "cell_type": "code",
   "execution_count": 148,
   "metadata": {},
   "outputs": [],
   "source": [
    "from sklearn.model_selection import train_test_split\n",
    "\n",
    "x = loans_df[['emp_length','loan_amount','annual_income','homeownership', 'debt_to_income', 'num_active_debit_accounts',\n",
    "             'application_type', 'loan_amount', 'term', 'installment', 'loan_status', 'initial_listing_status','balance',\n",
    "              'paid_total','paid_interest', 'paid_late_fees']].values\n",
    "y = loans_df[['interest_rate']].values\n",
    "\n",
    "X_train, X_test, y_train, y_test = train_test_split(X, y, test_size=0.3, random_state=0)"
   ]
  },
  {
   "cell_type": "code",
   "execution_count": 149,
   "metadata": {},
   "outputs": [
    {
     "name": "stdout",
     "output_type": "stream",
     "text": [
      "Number of inputs:  6416\n",
      "--------XGBoost Regression--------\n",
      "\n",
      "R-SQUARED ERROR:  0.995235735112659\n",
      "\n",
      "MEAN ABSOLUTE ERROR is:  0.8060305278442504\n",
      "\n",
      "MEAN SQUARED ERROR is:  1.958528048619358\n",
      "\n"
     ]
    }
   ],
   "source": [
    "from xgboost import XGBRegressor\n",
    "from sklearn import metrics\n",
    "\n",
    "algo = XGBRegressor()\n",
    "print (\"Number of inputs: \",len(y_train))\n",
    "model = algo.fit(X_train, y_train)\n",
    "\n",
    "train_pred = model.predict(X_train)\n",
    "y_pred = model.predict(X_test)\n",
    "y_pred=np.round(y_pred,2)\n",
    "\n",
    "print(\"--------XGBoost Regression--------\")\n",
    "print()\n",
    "\n",
    "# R-SQUARED ERROR\n",
    "print (\"R-SQUARED ERROR: \", metrics.r2_score(y_train, train_pred))\n",
    "print()\n",
    "\n",
    "# MEAN ABSOLUTE ERROR\n",
    "print (\"MEAN ABSOLUTE ERROR is: \", metrics.mean_absolute_error(y_test, y_pred))\n",
    "print()\n",
    "\n",
    "# MEAN SQUARED ERROR\n",
    "print (\"MEAN SQUARED ERROR is: \", metrics.mean_squared_error(y_test, y_pred))\n",
    "print()\n",
    "\n",
    "print\n",
    "errors = []\n",
    "for i,j in zip(y_test, y_pred):\n",
    "    if abs(i-j)<3:\n",
    "        errors.append(abs(i-j))"
   ]
  },
  {
   "cell_type": "code",
   "execution_count": 150,
   "metadata": {},
   "outputs": [
    {
     "name": "stdout",
     "output_type": "stream",
     "text": [
      "Error distribution plot:\n"
     ]
    },
    {
     "data": {
      "text/plain": [
       "<matplotlib.axes._subplots.AxesSubplot at 0x19492eeb630>"
      ]
     },
     "execution_count": 150,
     "metadata": {},
     "output_type": "execute_result"
    },
    {
     "data": {
      "image/png": "[encoded data removed]",
      "text/plain": [
       "<Figure size 288x432 with 1 Axes>"
      ]
     },
     "metadata": {
      "needs_background": "light"
     },
     "output_type": "display_data"
    }
   ],
   "source": [
    "plt.figure(figsize=(4,6))\n",
    "print(\"Error distribution plot:\")\n",
    "sb.violinplot(y=errors, color=\"#4ff2e2\")"
   ]
  },
  {
   "cell_type": "code",
   "execution_count": 151,
   "metadata": {},
   "outputs": [],
   "source": [
    "C= 1-np.mean(errors)/ loans_df.interest_rate.mean()"
   ]
  },
  {
   "cell_type": "code",
   "execution_count": 152,
   "metadata": {
    "scrolled": true
   },
   "outputs": [
    {
     "name": "stdout",
     "output_type": "stream",
     "text": [
      "Accuracy for interest rate prediction is: 94.98062172766521\n"
     ]
    }
   ],
   "source": [
    "print('Accuracy for interest rate prediction is:' ,C*100)"
   ]
  },
  {
   "cell_type": "markdown",
   "metadata": {},
   "source": [
    "### Linear Regression Model\n",
    "\n",
    "- The first model I selected to predict interest rates was a Linear regression model using scikitlearn's LinearRegression. Linear regression is an attractive model because the representation is so simple. The representation is a linear equation that combines a specific set of input values (x) the solution to which is the predicted output for that set of input values (y). As such, both the input values (x) and the output value are numeric. \n",
    "\n",
    "- I used Scikit-learn's LinearRegression() default parameters that are tested on the training data and these parameter that produces the highest accuracy scores will be stored in the model object for predictions.  An advantage of using linear regression models is their relative ease of use, fast computation times, and straightforward deployment and maintenance in production environments."
   ]
  },
  {
   "cell_type": "markdown",
   "metadata": {},
   "source": [
    "### Gradient Boosting Regressor Model\n",
    "\n",
    "- The second model that I have worked with is Gradient Boosting Regressor algorithm.\n",
    "- As the name suggest \"Gradient Boosting\", this model is a boosting technique.\n",
    "- The objective of Gradient Boosting is to minimize the loss function of the model by adding weak learners using gradient decent. Gradient Decent is a first-order iterative optimisation algorithm for finding a local minimum of a differentiable function. As gradient boosting is based on minimising a loss function, different types of loss functions can be used resulting in a flexible technique that can be applied to regression, multi-class classification, etc.\n",
    "- Intuitively, gradient boosting is a stage-wise additive model that generates learners during the learning process (i.e., trees are added one at a time, and existing trees in the model are not changed). The contribution of the weak learner to the ensemble is based on the gradient descent optimisation process. The calculated contribution of each tree is based on minimising the overall error of the strong learner.\n",
    "- By using this model, I was able to predict an accuracy rate of 92.7% in predicting the interest rate.\n"
   ]
  },
  {
   "cell_type": "markdown",
   "metadata": {},
   "source": [
    "### Extreme Gradient Boosting (XGBoost) Model\n",
    "\n",
    "- The final model I selected to predict interest rates was a Extreme Gradient Boosting(XGBoost) regression model using scikitlearn's XGBoost Gradient Boosting Regressor Model.\n",
    "\n",
    "- XGBoost is one of the most popular variants of gradient boosting. It is a decision-tree-based ensemble Machine Learning algorithm that uses a gradient boosting framework. XGBoost is basically designed to enhance the performance and speed of a Machine Learning model. In prediction problems involving unstructured data (images, text, etc.), artificial neural networks tend to outperform all other algorithms or frameworks. However, when it comes to small-to-medium structured/tabular data, decision tree-based algorithms are considered best-in-class right now. \n",
    "\n",
    "- XGBoost uses pre-sorted algorithm & histogram-based algorithm for computing the best split. The histogram-based algorithm splits all the data points for a feature into discrete bins and uses these bins to find the split value of the histogram. Also, in XGBoost, the trees can have a varying number of terminal nodes and left weights of the trees that are calculated with less evidence is shrunk more heavily.\n",
    "\n",
    "- I specifically used XGBoost's python module xgboost as it provides relatively high customization options for hyperparameters and relatively fast processing with its built-in parellel processing when building decision trees. This result in the best evaluation scores from the rest of the models that I worked with as shown above. This model predicted an accuracy rate of 94% in predicting the interest rate.\n"
   ]
  }
 ],
 "metadata": {
  "kernelspec": {
   "display_name": "Python 3",
   "language": "python",
   "name": "python3"
  },
  "language_info": {
   "codemirror_mode": {
    "name": "ipython",
    "version": 3
   },
   "file_extension": ".py",
   "mimetype": "text/x-python",
   "name": "python",
   "nbconvert_exporter": "python",
   "pygments_lexer": "ipython3",
   "version": "3.7.3"
  }
 },
 "nbformat": 4,
 "nbformat_minor": 2
}
